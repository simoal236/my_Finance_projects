{
 "cells": [
  {
   "cell_type": "markdown",
   "metadata": {},
   "source": [
    "**Calculating BS Greeks with Python**"
   ]
  },
  {
   "cell_type": "code",
   "execution_count": 2,
   "metadata": {},
   "outputs": [],
   "source": [
    "from py_vollib.black_scholes import black_scholes as bs\n",
    "from py_vollib.black_scholes.greeks.analytical import delta, gamma, vega,theta, rho"
   ]
  },
  {
   "cell_type": "code",
   "execution_count": 7,
   "metadata": {},
   "outputs": [],
   "source": [
    "## Implementation of B&S formula in Python \n",
    "import numpy as np\n",
    "from scipy.stats import norm\n",
    "\n",
    "## Define variables\n",
    "r = 0.01\n",
    "S = 30\n",
    "K = 40\n",
    "T = 240/365\n",
    "sigma = 0.30\n",
    "\n",
    "def BS(r,S,K,T,sigma,type='c'):\n",
    "    \"Calculate BS price of call/put\"\n",
    "    d1 = (np.log(S/K) + (r + sigma**2/2)*T) / (sigma*np.sqrt(T))\n",
    "    d2 = d1 - sigma*np.sqrt(T)\n",
    "    try:\n",
    "        if type == \"c\":\n",
    "            price = S*norm.cdf(d1,0,1) - K*np.exp(-r*T)*norm.cdf(d2,0,1)\n",
    "        elif type == \"p\":\n",
    "            price  = K*np.exp(-r*T)*norm.cdf(-d2,0,1) - S*norm.cdf(-d1,0,1)\n",
    "        return price, bs(type, S,K,T,r,sigma)\n",
    "    except:\n",
    "        print(\"Please confirm option type, either 'c for Call or 'p' for Put!\")\n",
    "                \n",
    "\n"
   ]
  },
  {
   "cell_type": "code",
   "execution_count": 8,
   "metadata": {},
   "outputs": [
    {
     "name": "stdout",
     "output_type": "stream",
     "text": [
      "Option price:  (0.5132843798399405, 0.5132843798399411)\n"
     ]
    }
   ],
   "source": [
    "print(\"Option price: \",BS(r,S,K,T,sigma,\"c\"))"
   ]
  },
  {
   "cell_type": "markdown",
   "metadata": {},
   "source": [
    "**DELTA**\n",
    "\n",
    "delta_call = norm(d1)\n",
    "\n",
    "delta_put  = -norm(-d1)"
   ]
  },
  {
   "cell_type": "code",
   "execution_count": 10,
   "metadata": {},
   "outputs": [],
   "source": [
    "def delta_calc(r,S,K,T,sigma,type='c'):\n",
    "    \"Calculate delta of an european option\"\n",
    "    d1 = (np.log(S/K) + (r + sigma**2/2)*T) / (sigma*np.sqrt(T))\n",
    "    d2 = d1 - sigma*np.sqrt(T)\n",
    "    try:\n",
    "        if type == \"c\":\n",
    "            delta_calc = norm.cdf(d1,0,1)\n",
    "        elif type == \"p\":\n",
    "            delta_calc = -norm.cdf(-d1,0,1)\n",
    "        return delta_calc, delta(type, S,K,T,r,sigma)\n",
    "    except:\n",
    "        print(\"Please confirm option type, either 'c' for Call or 'p' for Put!\")"
   ]
  },
  {
   "cell_type": "markdown",
   "metadata": {},
   "source": [
    "**GAMMA**\n",
    "\n",
    "gamma = (N'(d1)) / (S * sigma * sqrt(tau))"
   ]
  },
  {
   "cell_type": "code",
   "execution_count": 13,
   "metadata": {},
   "outputs": [],
   "source": [
    "def gamma_calc(r,S,K,T,sigma,type='c'):\n",
    "    \"Calculate gamma of an european option\"\n",
    "    d1 = (np.log(S/K) + (r + sigma**2/2)*T) / (sigma*np.sqrt(T))\n",
    "    d2 = d1 - sigma*np.sqrt(T)\n",
    "    try:\n",
    "        if type == \"c\":\n",
    "            gamma_calc = norm.pdf(d1,0,1) / (S * sigma * np.sqrt(T))           ## it's pdf because we have N'(d1) !\n",
    "        elif type == \"p\":\n",
    "            gamma_calc = norm.pdf(d1,0,1) / (S * sigma * np.sqrt(T))        \n",
    "        return gamma_calc, gamma(type, S,K,T,r,sigma)\n",
    "    except:\n",
    "        print(\"Please confirm option type, either 'c for Call or 'p' for Put!\")"
   ]
  },
  {
   "cell_type": "markdown",
   "metadata": {},
   "source": [
    "**VEGA**\n",
    "\n",
    "vega = S * (N'(d1)) * sqrt(tau)"
   ]
  },
  {
   "cell_type": "code",
   "execution_count": 6,
   "metadata": {},
   "outputs": [],
   "source": [
    "def vega_calc(r,S,K,T,sigma,type='c'):\n",
    "    \"Calculate vega of an european option\"\n",
    "    d1 = (np.log(S/K) + (r + sigma**2/2)*T) / (sigma*np.sqrt(T))\n",
    "    d2 = d1 - sigma*np.sqrt(T)\n",
    "    try:\n",
    "        if type == \"c\":\n",
    "            vega_calc = S * norm.pdf(d1,0,1) * np.sqrt(T)        ## it's pdf because we have N'(d1) !\n",
    "        elif type == \"p\":\n",
    "            vega_calc = S * norm.pdf(d1,0,1) * np.sqrt(T)         \n",
    "        return vega_calc*0.01, vega(type, S,K,T,r,sigma)\n",
    "    except:\n",
    "        print(\"Please confirm option type, either 'c for Call or 'p' for Put!\")"
   ]
  },
  {
   "cell_type": "markdown",
   "metadata": {},
   "source": [
    "**THETA**"
   ]
  },
  {
   "cell_type": "code",
   "execution_count": 8,
   "metadata": {},
   "outputs": [],
   "source": [
    "def theta_calc(r,S,K,T,sigma,type='c'):\n",
    "    \"Calculate theta of an european option\"\n",
    "    d1 = (np.log(S/K) + (r + sigma**2/2)*T) / (sigma*np.sqrt(T))\n",
    "    d2 = d1 - sigma*np.sqrt(T)\n",
    "    try:\n",
    "        if type == \"c\":\n",
    "            theta_calc = -S * norm.pdf(d1,0,1)*sigma/(2*np.sqrt(T)) - r*K*np.exp(-r*T)*norm.cdf(d2,0,1)     ## it's pdf because we have N'(d1) !\n",
    "        elif type == \"p\":\n",
    "            theta_calc = -S * norm.pdf(d1,0,1)*sigma/(2*np.sqrt(T)) + r*K*np.exp(-r*T)*norm.cdf(-d2,0,1)     \n",
    "        return theta_calc/365, theta(type, S,K,T,r,sigma)\n",
    "    except:\n",
    "        print(\"Please confirm option type, either 'c for Call or 'p' for Put!\")"
   ]
  },
  {
   "cell_type": "markdown",
   "metadata": {},
   "source": [
    "**RHO**"
   ]
  },
  {
   "cell_type": "code",
   "execution_count": 7,
   "metadata": {},
   "outputs": [],
   "source": [
    "def rho_calc(r,S,K,T,sigma,type='c'):\n",
    "    \"Calculate theta of an european option\"\n",
    "    d1 = (np.log(S/K) + (r + sigma**2/2)*T) / (sigma*np.sqrt(T))\n",
    "    d2 = d1 - sigma*np.sqrt(T)\n",
    "    try:\n",
    "        if type == \"c\":\n",
    "            rho_calc = K * T * np.exp(-r*T) * norm.cdf(d2,0,1)    ## it's pdf because we have N'(d1) !\n",
    "        elif type == \"p\":\n",
    "            rho_calc = -K * T * np.exp(-r*T) * norm.cdf(-d2,0,1)     \n",
    "        return rho_calc*0.01, rho(type, S,K,T,r,sigma)\n",
    "    except:\n",
    "        print(\"Please confirm option type, either 'c for Call or 'p' for Put!\")"
   ]
  }
 ],
 "metadata": {
  "kernelspec": {
   "display_name": "Python 3.9.10 ('base')",
   "language": "python",
   "name": "python3"
  },
  "language_info": {
   "codemirror_mode": {
    "name": "ipython",
    "version": 3
   },
   "file_extension": ".py",
   "mimetype": "text/x-python",
   "name": "python",
   "nbconvert_exporter": "python",
   "pygments_lexer": "ipython3",
   "version": "3.9.10"
  },
  "orig_nbformat": 4,
  "vscode": {
   "interpreter": {
    "hash": "c76a5825dbedbcc6c31f4a5b30a2a4f31f5795194db782c2c6709abd6cad99d5"
   }
  }
 },
 "nbformat": 4,
 "nbformat_minor": 2
}
