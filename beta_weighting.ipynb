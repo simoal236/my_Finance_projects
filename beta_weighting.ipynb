{
 "cells": [
  {
   "cell_type": "code",
   "execution_count": 1,
   "metadata": {},
   "outputs": [],
   "source": [
    "import datetime as dt\n",
    "import pandas as pd\n",
    "import numpy as np\n",
    "from scipy import stats\n",
    "from pandas_datareader import data as pdr"
   ]
  },
  {
   "cell_type": "markdown",
   "metadata": {},
   "source": [
    "**Step 1: specify date range for analysis**"
   ]
  },
  {
   "cell_type": "code",
   "execution_count": 2,
   "metadata": {},
   "outputs": [
    {
     "data": {
      "text/plain": [
       "(datetime.datetime(2021, 1, 1, 0, 0),\n",
       " datetime.datetime(2022, 7, 5, 23, 5, 45, 624363))"
      ]
     },
     "execution_count": 2,
     "metadata": {},
     "output_type": "execute_result"
    }
   ],
   "source": [
    "start = dt.datetime(2021,1,1)\n",
    "end = dt.datetime.now()\n",
    "start, end"
   ]
  },
  {
   "cell_type": "markdown",
   "metadata": {},
   "source": [
    "**Step2: select the stock/tickers you would like to analyse**"
   ]
  },
  {
   "cell_type": "code",
   "execution_count": 22,
   "metadata": {},
   "outputs": [
    {
     "data": {
      "text/plain": [
       "['^AXJO', 'CBA.AX', 'NAB.AX', 'WBC.AX', 'ANZ.AX']"
      ]
     },
     "execution_count": 22,
     "metadata": {},
     "output_type": "execute_result"
    }
   ],
   "source": [
    "stockList = ['CBA', 'NAB', 'WBC', 'ANZ']\n",
    "stocks = ['^AXJO'] + [i + '.AX' for i in stockList]\n",
    "stocks"
   ]
  },
  {
   "cell_type": "markdown",
   "metadata": {},
   "source": [
    "**Step 3: call the Pandas_Datareader  datareader module**"
   ]
  },
  {
   "cell_type": "code",
   "execution_count": 23,
   "metadata": {},
   "outputs": [
    {
     "data": {
      "text/html": [
       "<div>\n",
       "<style scoped>\n",
       "    .dataframe tbody tr th:only-of-type {\n",
       "        vertical-align: middle;\n",
       "    }\n",
       "\n",
       "    .dataframe tbody tr th {\n",
       "        vertical-align: top;\n",
       "    }\n",
       "\n",
       "    .dataframe thead th {\n",
       "        text-align: right;\n",
       "    }\n",
       "</style>\n",
       "<table border=\"1\" class=\"dataframe\">\n",
       "  <thead>\n",
       "    <tr style=\"text-align: right;\">\n",
       "      <th>Symbols</th>\n",
       "      <th>^AXJO</th>\n",
       "      <th>CBA.AX</th>\n",
       "      <th>NAB.AX</th>\n",
       "      <th>WBC.AX</th>\n",
       "      <th>ANZ.AX</th>\n",
       "    </tr>\n",
       "    <tr>\n",
       "      <th>Date</th>\n",
       "      <th></th>\n",
       "      <th></th>\n",
       "      <th></th>\n",
       "      <th></th>\n",
       "      <th></th>\n",
       "    </tr>\n",
       "  </thead>\n",
       "  <tbody>\n",
       "    <tr>\n",
       "      <th>2021-01-04</th>\n",
       "      <td>-0.000344</td>\n",
       "      <td>-0.006228</td>\n",
       "      <td>-0.010522</td>\n",
       "      <td>-0.005619</td>\n",
       "      <td>-0.003043</td>\n",
       "    </tr>\n",
       "    <tr>\n",
       "      <th>2021-01-05</th>\n",
       "      <td>-0.011258</td>\n",
       "      <td>-0.003973</td>\n",
       "      <td>-0.012417</td>\n",
       "      <td>-0.007714</td>\n",
       "      <td>-0.008306</td>\n",
       "    </tr>\n",
       "    <tr>\n",
       "      <th>2021-01-06</th>\n",
       "      <td>0.015752</td>\n",
       "      <td>0.020063</td>\n",
       "      <td>0.027725</td>\n",
       "      <td>0.031507</td>\n",
       "      <td>0.037057</td>\n",
       "    </tr>\n",
       "    <tr>\n",
       "      <th>2021-01-07</th>\n",
       "      <td>0.006815</td>\n",
       "      <td>0.012338</td>\n",
       "      <td>0.013365</td>\n",
       "      <td>0.014403</td>\n",
       "      <td>0.008425</td>\n",
       "    </tr>\n",
       "    <tr>\n",
       "      <th>2021-01-10</th>\n",
       "      <td>-0.009023</td>\n",
       "      <td>-0.005504</td>\n",
       "      <td>-0.006014</td>\n",
       "      <td>0.000493</td>\n",
       "      <td>0.000419</td>\n",
       "    </tr>\n",
       "  </tbody>\n",
       "</table>\n",
       "</div>"
      ],
      "text/plain": [
       "Symbols        ^AXJO    CBA.AX    NAB.AX    WBC.AX    ANZ.AX\n",
       "Date                                                        \n",
       "2021-01-04 -0.000344 -0.006228 -0.010522 -0.005619 -0.003043\n",
       "2021-01-05 -0.011258 -0.003973 -0.012417 -0.007714 -0.008306\n",
       "2021-01-06  0.015752  0.020063  0.027725  0.031507  0.037057\n",
       "2021-01-07  0.006815  0.012338  0.013365  0.014403  0.008425\n",
       "2021-01-10 -0.009023 -0.005504 -0.006014  0.000493  0.000419"
      ]
     },
     "execution_count": 23,
     "metadata": {},
     "output_type": "execute_result"
    }
   ],
   "source": [
    "df = pdr.get_data_yahoo(stocks, start, end)\n",
    "log_returns = np.log(df.Close / df.Close.shift(1)).dropna()\n",
    "log_returns.head()"
   ]
  },
  {
   "cell_type": "markdown",
   "metadata": {},
   "source": [
    "**Step 4a: directly calculate data**"
   ]
  },
  {
   "cell_type": "code",
   "execution_count": 26,
   "metadata": {},
   "outputs": [],
   "source": [
    "def calc_beta(df):\n",
    "    np_array = df.values\n",
    "    ## market  index is the first column 0\n",
    "    m = np_array[:,0]\n",
    "    beta = []\n",
    "    for ind,col in enumerate(df):\n",
    "        if ind > 0:\n",
    "            ## stock returns indexed by ind\n",
    "            s = np_array[:,ind]\n",
    "            ## calculate the cov matrix between the stock and market\n",
    "            covariance = np.cov(s,m)\n",
    "            beta.append(covariance[0,1] / covariance[1,1])\n",
    "            \n",
    "    return pd.Series(beta, df.columns[1:], name = 'Beta')\n",
    "\n",
    "\n"
   ]
  },
  {
   "cell_type": "code",
   "execution_count": 27,
   "metadata": {},
   "outputs": [
    {
     "data": {
      "text/plain": [
       "Symbols\n",
       "CBA.AX    1.021162\n",
       "NAB.AX    0.914802\n",
       "WBC.AX    0.863219\n",
       "ANZ.AX    0.908976\n",
       "Name: Beta, dtype: float64"
      ]
     },
     "execution_count": 27,
     "metadata": {},
     "output_type": "execute_result"
    }
   ],
   "source": [
    "calc_beta(log_returns)"
   ]
  },
  {
   "cell_type": "markdown",
   "metadata": {},
   "source": [
    "**Step 4b: use linear regression to get coefficient of market and stocks returns**"
   ]
  },
  {
   "cell_type": "code",
   "execution_count": 29,
   "metadata": {},
   "outputs": [],
   "source": [
    "def regression_beta(df):\n",
    "    np_array = df.values\n",
    "    ## market  index is the first column 0\n",
    "    m = np_array[:,0]\n",
    "    beta = []\n",
    "    for ind,col in enumerate(df):\n",
    "        if ind > 0:\n",
    "            ## stock returns indexed by ind\n",
    "            s = np_array[:,ind]\n",
    "            beta.append(stats.linregress(m,s)[0])\n",
    "                   \n",
    "    return pd.Series(beta, df.columns[1:], name = 'Beta')"
   ]
  },
  {
   "cell_type": "code",
   "execution_count": 30,
   "metadata": {},
   "outputs": [
    {
     "data": {
      "text/plain": [
       "Symbols\n",
       "CBA.AX    1.021162\n",
       "NAB.AX    0.914802\n",
       "WBC.AX    0.863219\n",
       "ANZ.AX    0.908976\n",
       "Name: Beta, dtype: float64"
      ]
     },
     "execution_count": 30,
     "metadata": {},
     "output_type": "execute_result"
    }
   ],
   "source": [
    "regression_beta(log_returns)"
   ]
  },
  {
   "cell_type": "markdown",
   "metadata": {},
   "source": [
    "**Step 4c: use matrix algebra to complete linear regression in one line**"
   ]
  },
  {
   "cell_type": "code",
   "execution_count": 31,
   "metadata": {},
   "outputs": [],
   "source": [
    "def matrix_beta(df):\n",
    "    # market index\n",
    "    X = df.values[:,[0]]\n",
    "    # add an additional columns for itercepept (initialize these values as 1's)\n",
    "    X = np.concatenate([np.ones_like(X),X], axis =1)\n",
    "    # apply the matrix algebra for linear regression - closed form solution\n",
    "    beta = np.linalg.pinv(X.T @ X) @ X.T @ df.values[:,1:] ## '@' stands for 'np.dot()'\n",
    "\n",
    "    return pd.Series(beta[1], df.columns[1:], name = 'Beta')"
   ]
  },
  {
   "cell_type": "code",
   "execution_count": 38,
   "metadata": {},
   "outputs": [],
   "source": [
    "beta = matrix_beta(log_returns)"
   ]
  },
  {
   "cell_type": "markdown",
   "metadata": {},
   "source": [
    "**Step 5: define your ptf and make DataFrame**"
   ]
  },
  {
   "cell_type": "code",
   "execution_count": 40,
   "metadata": {},
   "outputs": [],
   "source": [
    "units = np.array([100,250,300,400])\n",
    "ASXprices = df.Close[-1:].values.tolist()[0]\n",
    "price = np.array([round(price,2) for price in ASXprices[1:]])\n",
    "value = units*price\n",
    "weight = [round(val/sum(value),2) for val in value]\n",
    "beta = round(beta,2)"
   ]
  },
  {
   "cell_type": "code",
   "execution_count": 50,
   "metadata": {},
   "outputs": [
    {
     "data": {
      "text/html": [
       "<div>\n",
       "<style scoped>\n",
       "    .dataframe tbody tr th:only-of-type {\n",
       "        vertical-align: middle;\n",
       "    }\n",
       "\n",
       "    .dataframe tbody tr th {\n",
       "        vertical-align: top;\n",
       "    }\n",
       "\n",
       "    .dataframe thead th {\n",
       "        text-align: right;\n",
       "    }\n",
       "</style>\n",
       "<table border=\"1\" class=\"dataframe\">\n",
       "  <thead>\n",
       "    <tr style=\"text-align: right;\">\n",
       "      <th></th>\n",
       "      <th>Stock</th>\n",
       "      <th>Direction</th>\n",
       "      <th>Type</th>\n",
       "      <th>Stock Price</th>\n",
       "      <th>Price</th>\n",
       "      <th>Units</th>\n",
       "      <th>Value</th>\n",
       "      <th>Weight</th>\n",
       "      <th>Beta</th>\n",
       "      <th>Weighted Beta</th>\n",
       "    </tr>\n",
       "    <tr>\n",
       "      <th>Symbols</th>\n",
       "      <th></th>\n",
       "      <th></th>\n",
       "      <th></th>\n",
       "      <th></th>\n",
       "      <th></th>\n",
       "      <th></th>\n",
       "      <th></th>\n",
       "      <th></th>\n",
       "      <th></th>\n",
       "      <th></th>\n",
       "    </tr>\n",
       "  </thead>\n",
       "  <tbody>\n",
       "    <tr>\n",
       "      <th>CBA.AX</th>\n",
       "      <td>CBA</td>\n",
       "      <td>Long</td>\n",
       "      <td>S</td>\n",
       "      <td>91.23</td>\n",
       "      <td>91.23</td>\n",
       "      <td>100</td>\n",
       "      <td>9123.0</td>\n",
       "      <td>0.30</td>\n",
       "      <td>1.02</td>\n",
       "      <td>0.3060</td>\n",
       "    </tr>\n",
       "    <tr>\n",
       "      <th>NAB.AX</th>\n",
       "      <td>NAB</td>\n",
       "      <td>Long</td>\n",
       "      <td>S</td>\n",
       "      <td>27.65</td>\n",
       "      <td>27.65</td>\n",
       "      <td>250</td>\n",
       "      <td>6912.5</td>\n",
       "      <td>0.22</td>\n",
       "      <td>0.91</td>\n",
       "      <td>0.2002</td>\n",
       "    </tr>\n",
       "    <tr>\n",
       "      <th>WBC.AX</th>\n",
       "      <td>WBC</td>\n",
       "      <td>Long</td>\n",
       "      <td>S</td>\n",
       "      <td>19.67</td>\n",
       "      <td>19.67</td>\n",
       "      <td>300</td>\n",
       "      <td>5901.0</td>\n",
       "      <td>0.19</td>\n",
       "      <td>0.86</td>\n",
       "      <td>0.1634</td>\n",
       "    </tr>\n",
       "    <tr>\n",
       "      <th>ANZ.AX</th>\n",
       "      <td>ANZ</td>\n",
       "      <td>Long</td>\n",
       "      <td>S</td>\n",
       "      <td>22.20</td>\n",
       "      <td>22.20</td>\n",
       "      <td>400</td>\n",
       "      <td>8880.0</td>\n",
       "      <td>0.29</td>\n",
       "      <td>0.91</td>\n",
       "      <td>0.2639</td>\n",
       "    </tr>\n",
       "  </tbody>\n",
       "</table>\n",
       "</div>"
      ],
      "text/plain": [
       "        Stock Direction Type  Stock Price  Price  Units   Value  Weight  Beta  \\\n",
       "Symbols                                                                         \n",
       "CBA.AX    CBA      Long    S        91.23  91.23    100  9123.0    0.30  1.02   \n",
       "NAB.AX    NAB      Long    S        27.65  27.65    250  6912.5    0.22  0.91   \n",
       "WBC.AX    WBC      Long    S        19.67  19.67    300  5901.0    0.19  0.86   \n",
       "ANZ.AX    ANZ      Long    S        22.20  22.20    400  8880.0    0.29  0.91   \n",
       "\n",
       "         Weighted Beta  \n",
       "Symbols                 \n",
       "CBA.AX          0.3060  \n",
       "NAB.AX          0.2002  \n",
       "WBC.AX          0.1634  \n",
       "ANZ.AX          0.2639  "
      ]
     },
     "execution_count": 50,
     "metadata": {},
     "output_type": "execute_result"
    }
   ],
   "source": [
    "ptf = pd.DataFrame({\n",
    "    'Stock': stockList,\n",
    "    'Direction': 'Long',\n",
    "    'Type': 'S',\n",
    "    'Stock Price': price,\n",
    "    'Price' : price,\n",
    "    'Units': units,\n",
    "    'Value': value,\n",
    "    'Weight': weight,\n",
    "    'Beta': beta,\n",
    "    'Weighted Beta': weight * beta\n",
    "})\n",
    "\n",
    "ptf"
   ]
  },
  {
   "cell_type": "markdown",
   "metadata": {},
   "source": [
    "**Step 6: what if we have options, let's consider things in terms of Delta**"
   ]
  },
  {
   "cell_type": "code",
   "execution_count": 51,
   "metadata": {},
   "outputs": [
    {
     "data": {
      "text/html": [
       "<div>\n",
       "<style scoped>\n",
       "    .dataframe tbody tr th:only-of-type {\n",
       "        vertical-align: middle;\n",
       "    }\n",
       "\n",
       "    .dataframe tbody tr th {\n",
       "        vertical-align: top;\n",
       "    }\n",
       "\n",
       "    .dataframe thead th {\n",
       "        text-align: right;\n",
       "    }\n",
       "</style>\n",
       "<table border=\"1\" class=\"dataframe\">\n",
       "  <thead>\n",
       "    <tr style=\"text-align: right;\">\n",
       "      <th></th>\n",
       "      <th>Stock</th>\n",
       "      <th>Direction</th>\n",
       "      <th>Type</th>\n",
       "      <th>Stock Price</th>\n",
       "      <th>Price</th>\n",
       "      <th>Units</th>\n",
       "      <th>Value</th>\n",
       "      <th>Beta</th>\n",
       "      <th>Delta</th>\n",
       "    </tr>\n",
       "    <tr>\n",
       "      <th>Symbols</th>\n",
       "      <th></th>\n",
       "      <th></th>\n",
       "      <th></th>\n",
       "      <th></th>\n",
       "      <th></th>\n",
       "      <th></th>\n",
       "      <th></th>\n",
       "      <th></th>\n",
       "      <th></th>\n",
       "    </tr>\n",
       "  </thead>\n",
       "  <tbody>\n",
       "    <tr>\n",
       "      <th>CBA.AX</th>\n",
       "      <td>CBA</td>\n",
       "      <td>Long</td>\n",
       "      <td>S</td>\n",
       "      <td>91.23</td>\n",
       "      <td>91.23</td>\n",
       "      <td>100</td>\n",
       "      <td>9123.0</td>\n",
       "      <td>1.02</td>\n",
       "      <td>100</td>\n",
       "    </tr>\n",
       "    <tr>\n",
       "      <th>NAB.AX</th>\n",
       "      <td>NAB</td>\n",
       "      <td>Long</td>\n",
       "      <td>S</td>\n",
       "      <td>27.65</td>\n",
       "      <td>27.65</td>\n",
       "      <td>250</td>\n",
       "      <td>6912.5</td>\n",
       "      <td>0.91</td>\n",
       "      <td>250</td>\n",
       "    </tr>\n",
       "    <tr>\n",
       "      <th>WBC.AX</th>\n",
       "      <td>WBC</td>\n",
       "      <td>Long</td>\n",
       "      <td>S</td>\n",
       "      <td>19.67</td>\n",
       "      <td>19.67</td>\n",
       "      <td>300</td>\n",
       "      <td>5901.0</td>\n",
       "      <td>0.86</td>\n",
       "      <td>300</td>\n",
       "    </tr>\n",
       "    <tr>\n",
       "      <th>ANZ.AX</th>\n",
       "      <td>ANZ</td>\n",
       "      <td>Long</td>\n",
       "      <td>S</td>\n",
       "      <td>22.20</td>\n",
       "      <td>22.20</td>\n",
       "      <td>400</td>\n",
       "      <td>8880.0</td>\n",
       "      <td>0.91</td>\n",
       "      <td>400</td>\n",
       "    </tr>\n",
       "  </tbody>\n",
       "</table>\n",
       "</div>"
      ],
      "text/plain": [
       "        Stock Direction Type  Stock Price  Price  Units   Value  Beta  Delta\n",
       "Symbols                                                                     \n",
       "CBA.AX    CBA      Long    S        91.23  91.23    100  9123.0  1.02    100\n",
       "NAB.AX    NAB      Long    S        27.65  27.65    250  6912.5  0.91    250\n",
       "WBC.AX    WBC      Long    S        19.67  19.67    300  5901.0  0.86    300\n",
       "ANZ.AX    ANZ      Long    S        22.20  22.20    400  8880.0  0.91    400"
      ]
     },
     "execution_count": 51,
     "metadata": {},
     "output_type": "execute_result"
    }
   ],
   "source": [
    "ptf = ptf.drop(['Weighted Beta','Weight'], axis=1)\n",
    "ptf['Delta'] = ptf['Units']\n",
    "ptf"
   ]
  },
  {
   "cell_type": "markdown",
   "metadata": {},
   "source": [
    "**Add options to ptf**"
   ]
  },
  {
   "cell_type": "code",
   "execution_count": 64,
   "metadata": {},
   "outputs": [],
   "source": [
    "Options = [{'option':'CBA0Z8', 'underlying':'CBA', 'price':3.950, 'units': 2, 'delta': 0.627, 'direction': 'Short', 'type': 'Call'},\n",
    "           {'option':'NABQB9', 'underlying':'NAB', 'price':1.325, 'units': 2, 'delta': -0.425 ,'direction': 'Long', 'type': 'Put'}]"
   ]
  },
  {
   "cell_type": "code",
   "execution_count": 65,
   "metadata": {},
   "outputs": [
    {
     "data": {
      "text/html": [
       "<div>\n",
       "<style scoped>\n",
       "    .dataframe tbody tr th:only-of-type {\n",
       "        vertical-align: middle;\n",
       "    }\n",
       "\n",
       "    .dataframe tbody tr th {\n",
       "        vertical-align: top;\n",
       "    }\n",
       "\n",
       "    .dataframe thead th {\n",
       "        text-align: right;\n",
       "    }\n",
       "</style>\n",
       "<table border=\"1\" class=\"dataframe\">\n",
       "  <thead>\n",
       "    <tr style=\"text-align: right;\">\n",
       "      <th></th>\n",
       "      <th>Stock</th>\n",
       "      <th>Direction</th>\n",
       "      <th>Type</th>\n",
       "      <th>Stock Price</th>\n",
       "      <th>Price</th>\n",
       "      <th>Units</th>\n",
       "      <th>Value</th>\n",
       "      <th>Beta</th>\n",
       "      <th>Delta</th>\n",
       "    </tr>\n",
       "    <tr>\n",
       "      <th>Symbols</th>\n",
       "      <th></th>\n",
       "      <th></th>\n",
       "      <th></th>\n",
       "      <th></th>\n",
       "      <th></th>\n",
       "      <th></th>\n",
       "      <th></th>\n",
       "      <th></th>\n",
       "      <th></th>\n",
       "    </tr>\n",
       "  </thead>\n",
       "  <tbody>\n",
       "    <tr>\n",
       "      <th>CBA.AX</th>\n",
       "      <td>CBA</td>\n",
       "      <td>Long</td>\n",
       "      <td>S</td>\n",
       "      <td>91.23</td>\n",
       "      <td>91.230</td>\n",
       "      <td>100</td>\n",
       "      <td>9123.0</td>\n",
       "      <td>1.02</td>\n",
       "      <td>100.0</td>\n",
       "    </tr>\n",
       "    <tr>\n",
       "      <th>NAB.AX</th>\n",
       "      <td>NAB</td>\n",
       "      <td>Long</td>\n",
       "      <td>S</td>\n",
       "      <td>27.65</td>\n",
       "      <td>27.650</td>\n",
       "      <td>250</td>\n",
       "      <td>6912.5</td>\n",
       "      <td>0.91</td>\n",
       "      <td>250.0</td>\n",
       "    </tr>\n",
       "    <tr>\n",
       "      <th>WBC.AX</th>\n",
       "      <td>WBC</td>\n",
       "      <td>Long</td>\n",
       "      <td>S</td>\n",
       "      <td>19.67</td>\n",
       "      <td>19.670</td>\n",
       "      <td>300</td>\n",
       "      <td>5901.0</td>\n",
       "      <td>0.86</td>\n",
       "      <td>300.0</td>\n",
       "    </tr>\n",
       "    <tr>\n",
       "      <th>ANZ.AX</th>\n",
       "      <td>ANZ</td>\n",
       "      <td>Long</td>\n",
       "      <td>S</td>\n",
       "      <td>22.20</td>\n",
       "      <td>22.200</td>\n",
       "      <td>400</td>\n",
       "      <td>8880.0</td>\n",
       "      <td>0.91</td>\n",
       "      <td>400.0</td>\n",
       "    </tr>\n",
       "    <tr>\n",
       "      <th>CBA0Z8</th>\n",
       "      <td>CBA</td>\n",
       "      <td>Short</td>\n",
       "      <td>Call</td>\n",
       "      <td>91.23</td>\n",
       "      <td>3.950</td>\n",
       "      <td>2</td>\n",
       "      <td>790.0</td>\n",
       "      <td>1.02</td>\n",
       "      <td>-125.4</td>\n",
       "    </tr>\n",
       "    <tr>\n",
       "      <th>WPLQB9</th>\n",
       "      <td>NAB</td>\n",
       "      <td>Long</td>\n",
       "      <td>Put</td>\n",
       "      <td>27.65</td>\n",
       "      <td>1.325</td>\n",
       "      <td>2</td>\n",
       "      <td>265.0</td>\n",
       "      <td>0.91</td>\n",
       "      <td>-85.0</td>\n",
       "    </tr>\n",
       "    <tr>\n",
       "      <th>NABQB9</th>\n",
       "      <td>NAB</td>\n",
       "      <td>Long</td>\n",
       "      <td>Put</td>\n",
       "      <td>27.65</td>\n",
       "      <td>1.325</td>\n",
       "      <td>2</td>\n",
       "      <td>265.0</td>\n",
       "      <td>0.91</td>\n",
       "      <td>-85.0</td>\n",
       "    </tr>\n",
       "  </tbody>\n",
       "</table>\n",
       "</div>"
      ],
      "text/plain": [
       "        Stock Direction  Type  Stock Price   Price  Units   Value  Beta  Delta\n",
       "Symbols                                                                       \n",
       "CBA.AX    CBA      Long     S        91.23  91.230    100  9123.0  1.02  100.0\n",
       "NAB.AX    NAB      Long     S        27.65  27.650    250  6912.5  0.91  250.0\n",
       "WBC.AX    WBC      Long     S        19.67  19.670    300  5901.0  0.86  300.0\n",
       "ANZ.AX    ANZ      Long     S        22.20  22.200    400  8880.0  0.91  400.0\n",
       "CBA0Z8    CBA     Short  Call        91.23   3.950      2   790.0  1.02 -125.4\n",
       "WPLQB9    NAB      Long   Put        27.65   1.325      2   265.0  0.91  -85.0\n",
       "NABQB9    NAB      Long   Put        27.65   1.325      2   265.0  0.91  -85.0"
      ]
     },
     "execution_count": 65,
     "metadata": {},
     "output_type": "execute_result"
    }
   ],
   "source": [
    "for index, row in enumerate(Options):\n",
    "    ptf.loc[row['option']] = [row['underlying'], row['direction'], row['type'], ptf.loc[row['underlying']+'.AX', 'Price'], \n",
    "                                    row['price'], row['units'], row['price']*row['units']*100, beta[row['underlying']+'.AX'], \n",
    "                                    (row['delta']*row['units']* 100 if row['direction'] == 'Long' else -row['delta']*row['units']*100)]\n",
    "\n",
    "ptf\n"
   ]
  }
 ],
 "metadata": {
  "kernelspec": {
   "display_name": "Python 3.9.10 ('base')",
   "language": "python",
   "name": "python3"
  },
  "language_info": {
   "codemirror_mode": {
    "name": "ipython",
    "version": 3
   },
   "file_extension": ".py",
   "mimetype": "text/x-python",
   "name": "python",
   "nbconvert_exporter": "python",
   "pygments_lexer": "ipython3",
   "version": "3.9.10"
  },
  "orig_nbformat": 4,
  "vscode": {
   "interpreter": {
    "hash": "c76a5825dbedbcc6c31f4a5b30a2a4f31f5795194db782c2c6709abd6cad99d5"
   }
  }
 },
 "nbformat": 4,
 "nbformat_minor": 2
}
