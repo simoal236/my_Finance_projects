{
  "nbformat": 4,
  "nbformat_minor": 0,
  "metadata": {
    "colab": {
      "name": "ToyingWithGBM.ipynb",
      "provenance": [],
      "collapsed_sections": []
    },
    "kernelspec": {
      "name": "python3",
      "display_name": "Python 3"
    },
    "language_info": {
      "name": "python"
    }
  },
  "cells": [
    {
      "cell_type": "markdown",
      "source": [
        "$$dS(t) = \\mu S(t) dt + \\sigma S(t) dW(t)$$\n",
        "$$S(T)=S(0)e^{(\\mu - \\frac{\\sigma^2}{2})T + \\sigma W(T)}$$\n",
        "$$W(T) \\sim N(0, T)$$"
      ],
      "metadata": {
        "id": "flhIJjFe-EQH"
      }
    },
    {
      "cell_type": "markdown",
      "source": [
        "$$S(T_i)=S(T_{i-1})e^{(\\mu - \\frac{\\sigma^2}{2})(T_i - T_{i-1}) + \\sigma \\sqrt{T_i - T_{i-1}}N(0,1)}$$\n",
        "\n",
        "\n"
      ],
      "metadata": {
        "id": "UrArjnBHxCaT"
      }
    },
    {
      "cell_type": "code",
      "source": [
        "import numpy as np\n",
        "import pandas as pd\n",
        "import matplotlib.pyplot as plt\n",
        "from scipy.stats import multivariate_normal"
      ],
      "metadata": {
        "id": "cl1RdNKe-ISV"
      },
      "execution_count": null,
      "outputs": []
    },
    {
      "cell_type": "code",
      "source": [
        "n_stocks = 5\n",
        "dt = 1/252\n",
        "n_years = 1.0\n",
        "n_observations = int(n_years / dt)\n",
        "\n",
        "s0 = np.array([100.0, 42.0, 0.5, 24.0, 33333.0])\n",
        "sigma = np.array([0.2, 0.05, 0.35, 0.4, 1.2])\n",
        "mu = np.array([0.10, 0.08, 0.12, 0.2, 0.35])\n",
        "\n",
        "corr_matrix = np.zeros((n_stocks, n_stocks))\n",
        "trilower_indices = np.tril_indices_from(corr_matrix, k=-1)\n",
        "corr_matrix[trilower_indices] = np.random.randint(-10, 50, (n_stocks*(n_stocks+1)//2 - n_stocks)) / 100\n",
        "corr_matrix = corr_matrix + corr_matrix.T\n",
        "corr_matrix = corr_matrix + np.eye(n_stocks)\n",
        "\n",
        "mn = multivariate_normal(mean=np.zeros_like(mu), cov=corr_matrix)\n",
        "\n",
        "sT = np.zeros((n_observations + 1, n_stocks))\n",
        "\n",
        "sT[0, :] = s0\n",
        "\n",
        "epsilon = mn.rvs(n_observations)\n",
        "\n",
        "wT = sigma*np.sqrt(dt)*epsilon\n",
        "\n",
        "drift = np.ones((n_observations, n_stocks)) * (mu - 0.5*sigma*sigma) * dt\n",
        "\n",
        "sT[1:, :] = np.exp(drift + wT)\n",
        "sT_paths = np.cumprod(sT, axis=0)"
      ],
      "metadata": {
        "id": "B2V2HM7Chleu"
      },
      "execution_count": null,
      "outputs": []
    },
    {
      "cell_type": "code",
      "source": [
        "print(corr_matrix)"
      ],
      "metadata": {
        "colab": {
          "base_uri": "https://localhost:8080/"
        },
        "id": "38pgxdGsota2",
        "outputId": "691e5b27-971f-450e-c17e-73d3388bc586"
      },
      "execution_count": null,
      "outputs": [
        {
          "output_type": "stream",
          "name": "stdout",
          "text": [
            "[[ 1.   -0.07  0.45  0.41  0.3 ]\n",
            " [-0.07  1.    0.14  0.26  0.44]\n",
            " [ 0.45  0.14  1.    0.03  0.16]\n",
            " [ 0.41  0.26  0.03  1.    0.41]\n",
            " [ 0.3   0.44  0.16  0.41  1.  ]]\n"
          ]
        }
      ]
    },
    {
      "cell_type": "code",
      "source": [
        "stocks_dataframe = pd.DataFrame(sT_paths)"
      ],
      "metadata": {
        "id": "8GGPsdTGiKUB"
      },
      "execution_count": null,
      "outputs": []
    },
    {
      "cell_type": "code",
      "source": [
        "stocks_dataframe.columns = ['stock' + str(i) for i in range(n_stocks)]"
      ],
      "metadata": {
        "id": "sOmdfgu2iLrh"
      },
      "execution_count": null,
      "outputs": []
    },
    {
      "cell_type": "code",
      "source": [
        "stocks_dataframe.describe()"
      ],
      "metadata": {
        "colab": {
          "base_uri": "https://localhost:8080/",
          "height": 300
        },
        "id": "WpLU9lnniLpQ",
        "outputId": "181b8f26-93bb-48b8-da55-6bf87f711031"
      },
      "execution_count": null,
      "outputs": [
        {
          "output_type": "execute_result",
          "data": {
            "text/plain": [
              "           stock0      stock1      stock2      stock3        stock4\n",
              "count  253.000000  253.000000  253.000000  253.000000    253.000000\n",
              "mean    94.667699   43.714746    0.586259   21.280765   9860.653720\n",
              "std      4.188777    0.958894    0.074508    2.533479   6576.796464\n",
              "min     87.071810   41.738092    0.424501   16.358958   2089.979070\n",
              "25%     91.771769   43.238164    0.532653   19.083976   4918.874847\n",
              "50%     94.312541   43.746754    0.602131   21.243146   8583.301040\n",
              "75%     96.735055   44.524096    0.632522   23.484850  12814.412696\n",
              "max    106.488282   45.339140    0.755762   26.641905  38385.278934"
            ],
            "text/html": [
              "\n",
              "  <div id=\"df-ac59d75a-e193-4d02-a4b0-3b2043259882\">\n",
              "    <div class=\"colab-df-container\">\n",
              "      <div>\n",
              "<style scoped>\n",
              "    .dataframe tbody tr th:only-of-type {\n",
              "        vertical-align: middle;\n",
              "    }\n",
              "\n",
              "    .dataframe tbody tr th {\n",
              "        vertical-align: top;\n",
              "    }\n",
              "\n",
              "    .dataframe thead th {\n",
              "        text-align: right;\n",
              "    }\n",
              "</style>\n",
              "<table border=\"1\" class=\"dataframe\">\n",
              "  <thead>\n",
              "    <tr style=\"text-align: right;\">\n",
              "      <th></th>\n",
              "      <th>stock0</th>\n",
              "      <th>stock1</th>\n",
              "      <th>stock2</th>\n",
              "      <th>stock3</th>\n",
              "      <th>stock4</th>\n",
              "    </tr>\n",
              "  </thead>\n",
              "  <tbody>\n",
              "    <tr>\n",
              "      <th>count</th>\n",
              "      <td>253.000000</td>\n",
              "      <td>253.000000</td>\n",
              "      <td>253.000000</td>\n",
              "      <td>253.000000</td>\n",
              "      <td>253.000000</td>\n",
              "    </tr>\n",
              "    <tr>\n",
              "      <th>mean</th>\n",
              "      <td>94.667699</td>\n",
              "      <td>43.714746</td>\n",
              "      <td>0.586259</td>\n",
              "      <td>21.280765</td>\n",
              "      <td>9860.653720</td>\n",
              "    </tr>\n",
              "    <tr>\n",
              "      <th>std</th>\n",
              "      <td>4.188777</td>\n",
              "      <td>0.958894</td>\n",
              "      <td>0.074508</td>\n",
              "      <td>2.533479</td>\n",
              "      <td>6576.796464</td>\n",
              "    </tr>\n",
              "    <tr>\n",
              "      <th>min</th>\n",
              "      <td>87.071810</td>\n",
              "      <td>41.738092</td>\n",
              "      <td>0.424501</td>\n",
              "      <td>16.358958</td>\n",
              "      <td>2089.979070</td>\n",
              "    </tr>\n",
              "    <tr>\n",
              "      <th>25%</th>\n",
              "      <td>91.771769</td>\n",
              "      <td>43.238164</td>\n",
              "      <td>0.532653</td>\n",
              "      <td>19.083976</td>\n",
              "      <td>4918.874847</td>\n",
              "    </tr>\n",
              "    <tr>\n",
              "      <th>50%</th>\n",
              "      <td>94.312541</td>\n",
              "      <td>43.746754</td>\n",
              "      <td>0.602131</td>\n",
              "      <td>21.243146</td>\n",
              "      <td>8583.301040</td>\n",
              "    </tr>\n",
              "    <tr>\n",
              "      <th>75%</th>\n",
              "      <td>96.735055</td>\n",
              "      <td>44.524096</td>\n",
              "      <td>0.632522</td>\n",
              "      <td>23.484850</td>\n",
              "      <td>12814.412696</td>\n",
              "    </tr>\n",
              "    <tr>\n",
              "      <th>max</th>\n",
              "      <td>106.488282</td>\n",
              "      <td>45.339140</td>\n",
              "      <td>0.755762</td>\n",
              "      <td>26.641905</td>\n",
              "      <td>38385.278934</td>\n",
              "    </tr>\n",
              "  </tbody>\n",
              "</table>\n",
              "</div>\n",
              "      <button class=\"colab-df-convert\" onclick=\"convertToInteractive('df-ac59d75a-e193-4d02-a4b0-3b2043259882')\"\n",
              "              title=\"Convert this dataframe to an interactive table.\"\n",
              "              style=\"display:none;\">\n",
              "        \n",
              "  <svg xmlns=\"http://www.w3.org/2000/svg\" height=\"24px\"viewBox=\"0 0 24 24\"\n",
              "       width=\"24px\">\n",
              "    <path d=\"M0 0h24v24H0V0z\" fill=\"none\"/>\n",
              "    <path d=\"M18.56 5.44l.94 2.06.94-2.06 2.06-.94-2.06-.94-.94-2.06-.94 2.06-2.06.94zm-11 1L8.5 8.5l.94-2.06 2.06-.94-2.06-.94L8.5 2.5l-.94 2.06-2.06.94zm10 10l.94 2.06.94-2.06 2.06-.94-2.06-.94-.94-2.06-.94 2.06-2.06.94z\"/><path d=\"M17.41 7.96l-1.37-1.37c-.4-.4-.92-.59-1.43-.59-.52 0-1.04.2-1.43.59L10.3 9.45l-7.72 7.72c-.78.78-.78 2.05 0 2.83L4 21.41c.39.39.9.59 1.41.59.51 0 1.02-.2 1.41-.59l7.78-7.78 2.81-2.81c.8-.78.8-2.07 0-2.86zM5.41 20L4 18.59l7.72-7.72 1.47 1.35L5.41 20z\"/>\n",
              "  </svg>\n",
              "      </button>\n",
              "      \n",
              "  <style>\n",
              "    .colab-df-container {\n",
              "      display:flex;\n",
              "      flex-wrap:wrap;\n",
              "      gap: 12px;\n",
              "    }\n",
              "\n",
              "    .colab-df-convert {\n",
              "      background-color: #E8F0FE;\n",
              "      border: none;\n",
              "      border-radius: 50%;\n",
              "      cursor: pointer;\n",
              "      display: none;\n",
              "      fill: #1967D2;\n",
              "      height: 32px;\n",
              "      padding: 0 0 0 0;\n",
              "      width: 32px;\n",
              "    }\n",
              "\n",
              "    .colab-df-convert:hover {\n",
              "      background-color: #E2EBFA;\n",
              "      box-shadow: 0px 1px 2px rgba(60, 64, 67, 0.3), 0px 1px 3px 1px rgba(60, 64, 67, 0.15);\n",
              "      fill: #174EA6;\n",
              "    }\n",
              "\n",
              "    [theme=dark] .colab-df-convert {\n",
              "      background-color: #3B4455;\n",
              "      fill: #D2E3FC;\n",
              "    }\n",
              "\n",
              "    [theme=dark] .colab-df-convert:hover {\n",
              "      background-color: #434B5C;\n",
              "      box-shadow: 0px 1px 3px 1px rgba(0, 0, 0, 0.15);\n",
              "      filter: drop-shadow(0px 1px 2px rgba(0, 0, 0, 0.3));\n",
              "      fill: #FFFFFF;\n",
              "    }\n",
              "  </style>\n",
              "\n",
              "      <script>\n",
              "        const buttonEl =\n",
              "          document.querySelector('#df-ac59d75a-e193-4d02-a4b0-3b2043259882 button.colab-df-convert');\n",
              "        buttonEl.style.display =\n",
              "          google.colab.kernel.accessAllowed ? 'block' : 'none';\n",
              "\n",
              "        async function convertToInteractive(key) {\n",
              "          const element = document.querySelector('#df-ac59d75a-e193-4d02-a4b0-3b2043259882');\n",
              "          const dataTable =\n",
              "            await google.colab.kernel.invokeFunction('convertToInteractive',\n",
              "                                                     [key], {});\n",
              "          if (!dataTable) return;\n",
              "\n",
              "          const docLinkHtml = 'Like what you see? Visit the ' +\n",
              "            '<a target=\"_blank\" href=https://colab.research.google.com/notebooks/data_table.ipynb>data table notebook</a>'\n",
              "            + ' to learn more about interactive tables.';\n",
              "          element.innerHTML = '';\n",
              "          dataTable['output_type'] = 'display_data';\n",
              "          await google.colab.output.renderOutput(dataTable, element);\n",
              "          const docLink = document.createElement('div');\n",
              "          docLink.innerHTML = docLinkHtml;\n",
              "          element.appendChild(docLink);\n",
              "        }\n",
              "      </script>\n",
              "    </div>\n",
              "  </div>\n",
              "  "
            ]
          },
          "metadata": {},
          "execution_count": 67
        }
      ]
    },
    {
      "cell_type": "code",
      "source": [
        "log_returns_dataframe = np.log(stocks_dataframe).diff() * 100"
      ],
      "metadata": {
        "id": "Rdmvwo34iKR4"
      },
      "execution_count": null,
      "outputs": []
    },
    {
      "cell_type": "code",
      "source": [
        "log_returns_dataframe"
      ],
      "metadata": {
        "colab": {
          "base_uri": "https://localhost:8080/",
          "height": 423
        },
        "id": "L1sRA1G8kJK1",
        "outputId": "346a45ca-50bc-43e6-8285-1a0d59274f90"
      },
      "execution_count": null,
      "outputs": [
        {
          "output_type": "execute_result",
          "data": {
            "text/plain": [
              "       stock0    stock1    stock2    stock3     stock4\n",
              "0         NaN       NaN       NaN       NaN        NaN\n",
              "1    0.532710 -0.036360 -4.089432  3.834158   3.658291\n",
              "2   -0.966627  0.334452 -1.098106  1.327427  10.454322\n",
              "3    0.891852 -0.246464 -2.163595 -0.529885  -5.167613\n",
              "4   -2.235988 -0.422810 -2.833570 -0.437752 -19.239848\n",
              "..        ...       ...       ...       ...        ...\n",
              "248  0.201689  0.287046 -0.109999  1.371741  -2.214995\n",
              "249  0.490071 -0.526625  1.000479 -0.930386 -20.744582\n",
              "250  0.342773 -0.020862  1.104748 -2.204261  -3.606819\n",
              "251  0.844157  0.386102  0.806520  5.577787   1.268492\n",
              "252 -0.022396  0.064036 -0.382519 -1.326313 -11.482369\n",
              "\n",
              "[253 rows x 5 columns]"
            ],
            "text/html": [
              "\n",
              "  <div id=\"df-34bf42ee-ac76-49ca-ae34-58009612b979\">\n",
              "    <div class=\"colab-df-container\">\n",
              "      <div>\n",
              "<style scoped>\n",
              "    .dataframe tbody tr th:only-of-type {\n",
              "        vertical-align: middle;\n",
              "    }\n",
              "\n",
              "    .dataframe tbody tr th {\n",
              "        vertical-align: top;\n",
              "    }\n",
              "\n",
              "    .dataframe thead th {\n",
              "        text-align: right;\n",
              "    }\n",
              "</style>\n",
              "<table border=\"1\" class=\"dataframe\">\n",
              "  <thead>\n",
              "    <tr style=\"text-align: right;\">\n",
              "      <th></th>\n",
              "      <th>stock0</th>\n",
              "      <th>stock1</th>\n",
              "      <th>stock2</th>\n",
              "      <th>stock3</th>\n",
              "      <th>stock4</th>\n",
              "    </tr>\n",
              "  </thead>\n",
              "  <tbody>\n",
              "    <tr>\n",
              "      <th>0</th>\n",
              "      <td>NaN</td>\n",
              "      <td>NaN</td>\n",
              "      <td>NaN</td>\n",
              "      <td>NaN</td>\n",
              "      <td>NaN</td>\n",
              "    </tr>\n",
              "    <tr>\n",
              "      <th>1</th>\n",
              "      <td>0.532710</td>\n",
              "      <td>-0.036360</td>\n",
              "      <td>-4.089432</td>\n",
              "      <td>3.834158</td>\n",
              "      <td>3.658291</td>\n",
              "    </tr>\n",
              "    <tr>\n",
              "      <th>2</th>\n",
              "      <td>-0.966627</td>\n",
              "      <td>0.334452</td>\n",
              "      <td>-1.098106</td>\n",
              "      <td>1.327427</td>\n",
              "      <td>10.454322</td>\n",
              "    </tr>\n",
              "    <tr>\n",
              "      <th>3</th>\n",
              "      <td>0.891852</td>\n",
              "      <td>-0.246464</td>\n",
              "      <td>-2.163595</td>\n",
              "      <td>-0.529885</td>\n",
              "      <td>-5.167613</td>\n",
              "    </tr>\n",
              "    <tr>\n",
              "      <th>4</th>\n",
              "      <td>-2.235988</td>\n",
              "      <td>-0.422810</td>\n",
              "      <td>-2.833570</td>\n",
              "      <td>-0.437752</td>\n",
              "      <td>-19.239848</td>\n",
              "    </tr>\n",
              "    <tr>\n",
              "      <th>...</th>\n",
              "      <td>...</td>\n",
              "      <td>...</td>\n",
              "      <td>...</td>\n",
              "      <td>...</td>\n",
              "      <td>...</td>\n",
              "    </tr>\n",
              "    <tr>\n",
              "      <th>248</th>\n",
              "      <td>0.201689</td>\n",
              "      <td>0.287046</td>\n",
              "      <td>-0.109999</td>\n",
              "      <td>1.371741</td>\n",
              "      <td>-2.214995</td>\n",
              "    </tr>\n",
              "    <tr>\n",
              "      <th>249</th>\n",
              "      <td>0.490071</td>\n",
              "      <td>-0.526625</td>\n",
              "      <td>1.000479</td>\n",
              "      <td>-0.930386</td>\n",
              "      <td>-20.744582</td>\n",
              "    </tr>\n",
              "    <tr>\n",
              "      <th>250</th>\n",
              "      <td>0.342773</td>\n",
              "      <td>-0.020862</td>\n",
              "      <td>1.104748</td>\n",
              "      <td>-2.204261</td>\n",
              "      <td>-3.606819</td>\n",
              "    </tr>\n",
              "    <tr>\n",
              "      <th>251</th>\n",
              "      <td>0.844157</td>\n",
              "      <td>0.386102</td>\n",
              "      <td>0.806520</td>\n",
              "      <td>5.577787</td>\n",
              "      <td>1.268492</td>\n",
              "    </tr>\n",
              "    <tr>\n",
              "      <th>252</th>\n",
              "      <td>-0.022396</td>\n",
              "      <td>0.064036</td>\n",
              "      <td>-0.382519</td>\n",
              "      <td>-1.326313</td>\n",
              "      <td>-11.482369</td>\n",
              "    </tr>\n",
              "  </tbody>\n",
              "</table>\n",
              "<p>253 rows × 5 columns</p>\n",
              "</div>\n",
              "      <button class=\"colab-df-convert\" onclick=\"convertToInteractive('df-34bf42ee-ac76-49ca-ae34-58009612b979')\"\n",
              "              title=\"Convert this dataframe to an interactive table.\"\n",
              "              style=\"display:none;\">\n",
              "        \n",
              "  <svg xmlns=\"http://www.w3.org/2000/svg\" height=\"24px\"viewBox=\"0 0 24 24\"\n",
              "       width=\"24px\">\n",
              "    <path d=\"M0 0h24v24H0V0z\" fill=\"none\"/>\n",
              "    <path d=\"M18.56 5.44l.94 2.06.94-2.06 2.06-.94-2.06-.94-.94-2.06-.94 2.06-2.06.94zm-11 1L8.5 8.5l.94-2.06 2.06-.94-2.06-.94L8.5 2.5l-.94 2.06-2.06.94zm10 10l.94 2.06.94-2.06 2.06-.94-2.06-.94-.94-2.06-.94 2.06-2.06.94z\"/><path d=\"M17.41 7.96l-1.37-1.37c-.4-.4-.92-.59-1.43-.59-.52 0-1.04.2-1.43.59L10.3 9.45l-7.72 7.72c-.78.78-.78 2.05 0 2.83L4 21.41c.39.39.9.59 1.41.59.51 0 1.02-.2 1.41-.59l7.78-7.78 2.81-2.81c.8-.78.8-2.07 0-2.86zM5.41 20L4 18.59l7.72-7.72 1.47 1.35L5.41 20z\"/>\n",
              "  </svg>\n",
              "      </button>\n",
              "      \n",
              "  <style>\n",
              "    .colab-df-container {\n",
              "      display:flex;\n",
              "      flex-wrap:wrap;\n",
              "      gap: 12px;\n",
              "    }\n",
              "\n",
              "    .colab-df-convert {\n",
              "      background-color: #E8F0FE;\n",
              "      border: none;\n",
              "      border-radius: 50%;\n",
              "      cursor: pointer;\n",
              "      display: none;\n",
              "      fill: #1967D2;\n",
              "      height: 32px;\n",
              "      padding: 0 0 0 0;\n",
              "      width: 32px;\n",
              "    }\n",
              "\n",
              "    .colab-df-convert:hover {\n",
              "      background-color: #E2EBFA;\n",
              "      box-shadow: 0px 1px 2px rgba(60, 64, 67, 0.3), 0px 1px 3px 1px rgba(60, 64, 67, 0.15);\n",
              "      fill: #174EA6;\n",
              "    }\n",
              "\n",
              "    [theme=dark] .colab-df-convert {\n",
              "      background-color: #3B4455;\n",
              "      fill: #D2E3FC;\n",
              "    }\n",
              "\n",
              "    [theme=dark] .colab-df-convert:hover {\n",
              "      background-color: #434B5C;\n",
              "      box-shadow: 0px 1px 3px 1px rgba(0, 0, 0, 0.15);\n",
              "      filter: drop-shadow(0px 1px 2px rgba(0, 0, 0, 0.3));\n",
              "      fill: #FFFFFF;\n",
              "    }\n",
              "  </style>\n",
              "\n",
              "      <script>\n",
              "        const buttonEl =\n",
              "          document.querySelector('#df-34bf42ee-ac76-49ca-ae34-58009612b979 button.colab-df-convert');\n",
              "        buttonEl.style.display =\n",
              "          google.colab.kernel.accessAllowed ? 'block' : 'none';\n",
              "\n",
              "        async function convertToInteractive(key) {\n",
              "          const element = document.querySelector('#df-34bf42ee-ac76-49ca-ae34-58009612b979');\n",
              "          const dataTable =\n",
              "            await google.colab.kernel.invokeFunction('convertToInteractive',\n",
              "                                                     [key], {});\n",
              "          if (!dataTable) return;\n",
              "\n",
              "          const docLinkHtml = 'Like what you see? Visit the ' +\n",
              "            '<a target=\"_blank\" href=https://colab.research.google.com/notebooks/data_table.ipynb>data table notebook</a>'\n",
              "            + ' to learn more about interactive tables.';\n",
              "          element.innerHTML = '';\n",
              "          dataTable['output_type'] = 'display_data';\n",
              "          await google.colab.output.renderOutput(dataTable, element);\n",
              "          const docLink = document.createElement('div');\n",
              "          docLink.innerHTML = docLinkHtml;\n",
              "          element.appendChild(docLink);\n",
              "        }\n",
              "      </script>\n",
              "    </div>\n",
              "  </div>\n",
              "  "
            ]
          },
          "metadata": {},
          "execution_count": 69
        }
      ]
    },
    {
      "cell_type": "markdown",
      "source": [
        "Portfolio relative weights\n",
        "$$\\mathbf{w} \\in \\mathcal{R}^n$$\n",
        "Stocks Returns\n",
        "$$\\mathbf{r} \\in \\mathcal{R}^n$$\n",
        "My portfolio is made of 300,000\\$\n",
        "$$w_i = \\frac{weight_i}{300,000}$$\n",
        "\n",
        "$$\\sum_{i=1}^n w_i = 1$$\n",
        "$$w_i \\geq 0, ∀i$$\n",
        "\n",
        "Portfolio return\n",
        "$$\\sum_{i=1}^n w_i R_i = R_{ptf} = \\mathbf{w} \\cdot \\mathbf{r}$$\n"
      ],
      "metadata": {
        "id": "jDXsLqwyj05L"
      }
    },
    {
      "cell_type": "markdown",
      "source": [
        "Portfolio variance\n",
        "\n",
        "$$Var_{ptf} = \\mathbf{w}^T \\cdot \\mathbf{\\Sigma} \\cdot \\mathbf{w}$$\n",
        "\n",
        "$$\\mathbf{\\Sigma} \\in \\mathcal{R}^{n × n}$$\n",
        "$$\\mathbf{w} \\in \\mathcal{R}^{n \\times 1}$$\n",
        "$$\\mathbf{w}^T \\in \\mathcal{R}^{1 \\times n}$$\n"
      ],
      "metadata": {
        "id": "y1fCVYJHoq2K"
      }
    },
    {
      "cell_type": "markdown",
      "source": [
        "Minimum variance portfolio\n",
        "$$ \\min_{\\mathbf{w}} Var_{ptf}(\\mathbf{w}; \\mathbf{\\Sigma})$$\n",
        "$$ \\sum_{i=1}^n w_i R_i = R^* $$\n",
        "$$ \\sum_{i=1}^n w_i = 1 $$\n",
        "$$ w_i \\geq 0 ∀ i $$"
      ],
      "metadata": {
        "id": "edyhBNl-pXkG"
      }
    },
    {
      "cell_type": "markdown",
      "source": [
        "$$ \\sum_{i=1}^n w_i R_i - R^* = 0 $$\n",
        "$$ \\sum_{i=1}^n w_i - 1 = 0 $$\n",
        "\n"
      ],
      "metadata": {
        "id": "h0EqeRhe8M0U"
      }
    },
    {
      "cell_type": "code",
      "source": [
        "weights = np.ones((n_stocks, )) * 1 / n_stocks"
      ],
      "metadata": {
        "id": "SEuiiMpIeXGw"
      },
      "execution_count": null,
      "outputs": []
    },
    {
      "cell_type": "code",
      "source": [
        "def ptf_variance(w, covariance_matrix):\n",
        "    w_column = np.atleast_2d(w).T\n",
        "    w_T = w_column.T\n",
        "    w_Sigma = np.dot(w_T, covariance_matrix)\n",
        "    variance = np.dot(w_Sigma, w_column)[0]\n",
        "    return variance\n",
        "\n",
        "def ptf_return(w, r):\n",
        "    return np.dot(w, r)"
      ],
      "metadata": {
        "id": "8uDj3Xnb0ufp"
      },
      "execution_count": null,
      "outputs": []
    },
    {
      "cell_type": "code",
      "source": [
        "def objective_function(w, covariance_matrix):\n",
        "    return ptf_variance(w, covariance_matrix)\n",
        "\n",
        "def expected_returns_constraint_func(w, stock_returns, expected_return):\n",
        "    return np.dot(w, stock_returns) - expected_return\n",
        "\n",
        "def total_wealth_constraint_func(w):\n",
        "    return np.sum(w) - 1.0"
      ],
      "metadata": {
        "id": "HKpaMvwa44pi"
      },
      "execution_count": null,
      "outputs": []
    },
    {
      "cell_type": "code",
      "source": [
        "returns = (log_returns_dataframe.mean() / dt).values\n",
        "Sigma = (log_returns_dataframe.cov() / dt).values"
      ],
      "metadata": {
        "id": "8Wg0GoJs0uXI"
      },
      "execution_count": null,
      "outputs": []
    },
    {
      "cell_type": "code",
      "source": [
        "import scipy.optimize as opt"
      ],
      "metadata": {
        "id": "bxu-Q1Sj3x4u"
      },
      "execution_count": null,
      "outputs": []
    },
    {
      "cell_type": "code",
      "source": [
        "def efficient_portfolio(expected_return, market_returns, covariance_matrix):\n",
        "    expected_return_constraint = {\n",
        "    'type' : 'eq',\n",
        "    'fun' : expected_returns_constraint_func,\n",
        "    'args' : (market_returns, expected_return)\n",
        "    }\n",
        "    total_wealth_constraint = { \n",
        "        'type' : 'eq',\n",
        "        'fun' : total_wealth_constraint_func,\n",
        "    }\n",
        "    constraints_list = [expected_return_constraint, total_wealth_constraint]\n",
        "    bounds_list = [ (0.0, None) for _ in market_returns ]\n",
        "\n",
        "    initial_weights = np.ones_like(market_returns) / len(market_returns)\n",
        "\n",
        "    solution = opt.minimize(objective_function, initial_weights, method='SLSQP',\n",
        "                            args=(covariance_matrix, ), bounds=bounds_list, \n",
        "                            constraints=constraints_list)\n",
        "    return solution.x"
      ],
      "metadata": {
        "id": "Jucre-y4Ac9X"
      },
      "execution_count": null,
      "outputs": []
    },
    {
      "cell_type": "code",
      "source": [
        "expected_returns = [1.0, 3.0, 5.0, 10.0, 25.0, 35.0]\n",
        "optimal_portfolios = []\n",
        "for expected_return in expected_returns:\n",
        "    optimal_weights = efficient_portfolio(expected_return, returns, Sigma)\n",
        "    optimal_portfolios.append(optimal_weights)"
      ],
      "metadata": {
        "id": "NG7I0Ze7Ac7O"
      },
      "execution_count": null,
      "outputs": []
    },
    {
      "cell_type": "code",
      "source": [
        "optimal_portfolios_stdevs = []\n",
        "optimal_portfolios_returns = []\n",
        "for w in optimal_portfolios:\n",
        "    var = ptf_variance(w, Sigma)\n",
        "    ret = ptf_return(w, returns)\n",
        "    optimal_portfolios_stdevs.append(np.sqrt(var))\n",
        "    optimal_portfolios_returns.append(ret)"
      ],
      "metadata": {
        "id": "K3PgCJNHAc1R"
      },
      "execution_count": null,
      "outputs": []
    },
    {
      "cell_type": "code",
      "source": [
        "optimal_portfolios_stdevs"
      ],
      "metadata": {
        "colab": {
          "base_uri": "https://localhost:8080/"
        },
        "id": "Oq-cE4Ki6WeV",
        "outputId": "3f1d8f20-d78e-4173-8094-6397e490eab8"
      },
      "execution_count": null,
      "outputs": [
        {
          "output_type": "execute_result",
          "data": {
            "text/plain": [
              "[array([6.26775882]),\n",
              " array([5.71323912]),\n",
              " array([5.21103637]),\n",
              " array([5.81010535]),\n",
              " array([17.82672121]),\n",
              " array([27.10243366])]"
            ]
          },
          "metadata": {},
          "execution_count": 89
        }
      ]
    },
    {
      "cell_type": "code",
      "source": [
        "optimal_portfolios_returns"
      ],
      "metadata": {
        "colab": {
          "base_uri": "https://localhost:8080/"
        },
        "id": "Kx7yRPEz7rOw",
        "outputId": "814021db-c052-498f-9b48-d95294d3babf"
      },
      "execution_count": null,
      "outputs": [
        {
          "output_type": "execute_result",
          "data": {
            "text/plain": [
              "[1.000000000560962,\n",
              " 3.0000000003172502,\n",
              " 4.999999999744726,\n",
              " 9.999999955603556,\n",
              " 24.999994742170003,\n",
              " 34.99999830117054]"
            ]
          },
          "metadata": {},
          "execution_count": 91
        }
      ]
    },
    {
      "cell_type": "code",
      "source": [
        ""
      ],
      "metadata": {
        "id": "VtH95ulw0uQI"
      },
      "execution_count": null,
      "outputs": []
    }
  ]
}