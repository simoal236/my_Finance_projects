{
  "nbformat": 4,
  "nbformat_minor": 0,
  "metadata": {
    "colab": {
      "name": "Eff_front.ipynb",
      "provenance": [],
      "collapsed_sections": []
    },
    "kernelspec": {
      "name": "python3",
      "display_name": "Python 3"
    },
    "language_info": {
      "name": "python"
    }
  },
  "cells": [
    {
      "cell_type": "markdown",
      "source": [
        "**Modern Portfolio Theory**\n"
      ],
      "metadata": {
        "id": "1JGC76d-SBh5"
      }
    },
    {
      "cell_type": "code",
      "source": [
        "!pip install yfinance"
      ],
      "metadata": {
        "colab": {
          "base_uri": "https://localhost:8080/"
        },
        "id": "HRqfFn0CWb3W",
        "outputId": "2ebfae30-73a0-4add-b2f3-614e56f038ad"
      },
      "execution_count": 6,
      "outputs": [
        {
          "output_type": "stream",
          "name": "stdout",
          "text": [
            "Looking in indexes: https://pypi.org/simple, https://us-python.pkg.dev/colab-wheels/public/simple/\n",
            "Requirement already satisfied: yfinance in /usr/local/lib/python3.7/dist-packages (0.1.72)\n",
            "Requirement already satisfied: numpy>=1.15 in /usr/local/lib/python3.7/dist-packages (from yfinance) (1.21.6)\n",
            "Requirement already satisfied: requests>=2.26 in /usr/local/lib/python3.7/dist-packages (from yfinance) (2.28.1)\n",
            "Requirement already satisfied: pandas>=0.24.0 in /usr/local/lib/python3.7/dist-packages (from yfinance) (1.3.5)\n",
            "Requirement already satisfied: lxml>=4.5.1 in /usr/local/lib/python3.7/dist-packages (from yfinance) (4.9.0)\n",
            "Requirement already satisfied: multitasking>=0.0.7 in /usr/local/lib/python3.7/dist-packages (from yfinance) (0.0.10)\n",
            "Requirement already satisfied: pytz>=2017.3 in /usr/local/lib/python3.7/dist-packages (from pandas>=0.24.0->yfinance) (2022.1)\n",
            "Requirement already satisfied: python-dateutil>=2.7.3 in /usr/local/lib/python3.7/dist-packages (from pandas>=0.24.0->yfinance) (2.8.2)\n",
            "Requirement already satisfied: six>=1.5 in /usr/local/lib/python3.7/dist-packages (from python-dateutil>=2.7.3->pandas>=0.24.0->yfinance) (1.15.0)\n",
            "Requirement already satisfied: idna<4,>=2.5 in /usr/local/lib/python3.7/dist-packages (from requests>=2.26->yfinance) (2.10)\n",
            "Requirement already satisfied: certifi>=2017.4.17 in /usr/local/lib/python3.7/dist-packages (from requests>=2.26->yfinance) (2022.6.15)\n",
            "Requirement already satisfied: urllib3<1.27,>=1.21.1 in /usr/local/lib/python3.7/dist-packages (from requests>=2.26->yfinance) (1.24.3)\n",
            "Requirement already satisfied: charset-normalizer<3,>=2 in /usr/local/lib/python3.7/dist-packages (from requests>=2.26->yfinance) (2.0.12)\n"
          ]
        }
      ]
    },
    {
      "cell_type": "code",
      "source": [
        "import numpy as np\n",
        "import datetime as dt\n",
        "import yfinance as yf\n",
        "import pandas as pd\n",
        "import scipy as scy\n",
        "from scipy import optimize as opt\n",
        "import plotly.graph_objects as go"
      ],
      "metadata": {
        "id": "zLJXoCkjSIWf"
      },
      "execution_count": 169,
      "outputs": []
    },
    {
      "cell_type": "code",
      "source": [
        "apple = yf.Ticker(\"AAPL\")\n",
        "tesla = yf.Ticker(\"TSLA\")\n",
        "meta = yf.Ticker(\"META\")\n",
        "\n",
        "apple = (yf.Ticker(\"AAPL\")).history(period = \"1y\")\n",
        "tesla = (yf.Ticker(\"TSLA\")).history(period = \"1y\")\n",
        "meta = (yf.Ticker(\"META\")).history(period = \"1y\")\n",
        "\n",
        "stockData = pd.DataFrame(zip(apple['Close'],tesla['Close'],meta['Close']), columns =[\"AAPL\",\"TSLA\",\"META\"])\n",
        "returns = stockData.pct_change()\n",
        "mean_returns = returns.mean()\n",
        "cov_matrix = returns.cov()"
      ],
      "metadata": {
        "id": "nJG7w-lDcOvR"
      },
      "execution_count": 54,
      "outputs": []
    },
    {
      "cell_type": "code",
      "source": [
        "def ptf_performance(weights,mean_returns,cov_matrix):\n",
        "  returns = np.sum(mean_returns * weights) * 252\n",
        "  st_dev = np.sqrt(np.dot(weights.T,np.dot(cov_matrix,weights))) * np.sqrt(252)\n",
        "  return returns,st_dev\n",
        "\n",
        "weights = np.array([0.3,0.3,0.4])\n",
        "mean_returns, cov_matrix  \n",
        "returns,  st_dev = ptf_performance(weights, mean_returns, cov_matrix)\n",
        "\n",
        "print(round(returns*100,2),round(st_dev*100,2))\n"
      ],
      "metadata": {
        "colab": {
          "base_uri": "https://localhost:8080/"
        },
        "id": "GuGdiBgrc5P8",
        "outputId": "e36960e5-e216-46e1-bd02-9db2ae7f37cb"
      },
      "execution_count": 126,
      "outputs": [
        {
          "output_type": "stream",
          "name": "stdout",
          "text": [
            "-19.3 39.43\n"
          ]
        }
      ]
    },
    {
      "cell_type": "code",
      "source": [
        "def neg_sharperatio(weigths,mean_returns,cov_matrix,rfrate= 0):\n",
        "   preturns, pst_dev = ptf_performance(weights, mean_returns, cov_matrix)\n",
        "   return - (preturns - rfrate)/pst_dev\n",
        "\n",
        "\n",
        "\n",
        "def maxSR(mean_returns,cov_matrix, rfrate = 0, constr_set = (0,1)):\n",
        "  \"We want to minimize the negative SR, by altering the weights of the ptf\"\n",
        "  num_assets = len(mean_returns)\n",
        "  args = (mean_returns,cov_matrix, rfrate)\n",
        "  constraints = ({'type':'eq','fun':lambda x:np.sum(x) - 1}) ##sum of weigths has to be 1\n",
        "  bound = constr_set\n",
        "  bounds = tuple(bound for asset in range(num_assets))\n",
        "  result = opt.minimize(neg_sharperatio, num_assets*[1/num_assets], args = args,\n",
        "                       method = 'SLSQP',bounds = bounds,constraints = constraints) ## neg_sharperatio is what we try to minimize, the second argument is the pmt we need to minimize\n",
        "  return result                     \n",
        "\n",
        "\n",
        "#My_result = maxSR(mean_returns,cov_matrix)\n",
        "#maxSR,max_weights =  My_result['fun'],My_result['x']\n",
        "#print(maxSR,max_weights)"
      ],
      "metadata": {
        "id": "vJuoDBHwhT2q"
      },
      "execution_count": 127,
      "outputs": []
    },
    {
      "cell_type": "markdown",
      "source": [
        "**Minimum variance ptf**"
      ],
      "metadata": {
        "id": "HSaWUPR2vQCz"
      }
    },
    {
      "cell_type": "code",
      "source": [
        "def ptf_variance(weights,mean_returns,cov_matrix):\n",
        "  return ptf_performance(weights,mean_returns,cov_matrix)[1]\n",
        "\n",
        "\n",
        "def minimize_var(mean_returns,cov_matrix, rfrate = 0, constr_set = (0,1)):\n",
        "  \"Minimize the ptf variance by altering the weights/allocation of assets in ptf\"\n",
        "  num_assets = len(mean_returns)\n",
        "  args = (mean_returns,cov_matrix)\n",
        "  constraints = ({'type':'eq','fun':lambda x:np.sum(x) - 1}) ##sum of weigths has to be 1\n",
        "  bound = constr_set\n",
        "  bounds = tuple(bound for asset in range(num_assets))\n",
        "  result = opt.minimize(ptf_variance, num_assets*[1/num_assets], args = args,\n",
        "                       method = 'SLSQP',bounds = bounds,constraints = constraints)\n",
        "  return result \n",
        "\n",
        "\n",
        "#My_minvar_result = minimize_var(mean_returns,cov_matrix)\n",
        "#minimize_var,minvar_weights =  My_minvar_result['fun'],My_minvar_result['x']\n",
        "#print(minimize_var,minvar_weights)  \n"
      ],
      "metadata": {
        "id": "eEz5fxHmvOHN"
      },
      "execution_count": 164,
      "outputs": []
    },
    {
      "cell_type": "code",
      "source": [
        "maxSR(mean_returns,cov_matrix)"
      ],
      "metadata": {
        "colab": {
          "base_uri": "https://localhost:8080/"
        },
        "id": "r-P3dKZa3iWd",
        "outputId": "23183ecf-5d7f-4988-a3e8-8f1094c86aa4"
      },
      "execution_count": 130,
      "outputs": [
        {
          "output_type": "execute_result",
          "data": {
            "text/plain": [
              "     fun: 0.48959489890811525\n",
              "     jac: array([0., 0., 0.])\n",
              " message: 'Optimization terminated successfully.'\n",
              "    nfev: 5\n",
              "     nit: 1\n",
              "    njev: 1\n",
              "  status: 0\n",
              " success: True\n",
              "       x: array([0.33333333, 0.33333333, 0.33333333])"
            ]
          },
          "metadata": {},
          "execution_count": 130
        }
      ]
    },
    {
      "cell_type": "code",
      "source": [
        "def calculated_results(mean_ret,cov_mat,rfrate=0, constr_set=(0,1)):\n",
        "     \"\"\"Read in mean, cov matrix, ando other financial information\n",
        "        Output, Max SR, min volatility, efficient frontier  \"\"\"\n",
        "     ## max sharpe ratio ptf   \n",
        "     max_SR_ptf = maxSR(mean_ret, cov_mat)\n",
        "     max_SR_ret,max_SR_sdev = ptf_performance(max_SR_ptf['x'],mean_ret,cov_mat)   \n",
        "     max_SR_allocation = pd.DataFrame(max_SR_ptf['x'],index= mean_ret.index,columns = ['Allocation'])\n",
        "     max_SR_allocation['Allocation'] = [round(i*100,0) for i in max_SR_allocation['Allocation']]\n",
        "     \n",
        "     ## min volatility ptf\n",
        "     min_vol_ptf = minimize_var(mean_ret, cov_mat)\n",
        "     min_vol_ret,min_vol_sdev = ptf_performance(min_vol_ptf['x'],mean_ret,cov_mat)\n",
        "     min_vol_allocation = pd.DataFrame(min_vol_ptf['x'],index= mean_ret.index,columns = ['Allocation'])\n",
        "     min_vol_allocation['Allocation'] = [round(i*100,0) for i in min_vol_allocation['Allocation']]\n",
        "\n",
        "\n",
        "     ## Efficient frontier\n",
        "     target_returns = np.linspace(min_vol_ret,max_SR_ret,20)\n",
        "     efficient_list = []\n",
        "     for target in target_returns:\n",
        "       efficient_list.append(efficient_opt(mean_returns, cov_matrix,target)['fun'])\n",
        "\n",
        "     max_SR_ret,max_SR_sdev = round(max_SR_ret*100,2), round(max_SR_sdev*100,2)  \n",
        "     min_vol_ret,min_vol_sdev = round(min_vol_ret*100,2), round(min_vol_sdev*100,2)\n",
        "\n",
        "     return max_SR_ret,max_SR_sdev,max_SR_allocation, min_vol_ret, min_vol_sdev, min_vol_allocation, efficient_list, target_returns\n",
        "\n",
        "     \n",
        "\n",
        "calculated_results(mean_returns,cov_matrix)  \n",
        "\n"
      ],
      "metadata": {
        "colab": {
          "base_uri": "https://localhost:8080/"
        },
        "id": "kswpWmXLyT26",
        "outputId": "a3a5f6b8-288b-48ee-83f5-5de2e7fe61d4"
      },
      "execution_count": 188,
      "outputs": [
        {
          "output_type": "execute_result",
          "data": {
            "text/plain": [
              "(-14.11, 39.16,       Allocation\n",
              " AAPL        33.0\n",
              " TSLA        33.0\n",
              " META        33.0, 3.06, 29.89,       Allocation\n",
              " AAPL        98.0\n",
              " TSLA         0.0\n",
              " META         2.0, [0.2989317671173765,\n",
              "  0.2989721984836951,\n",
              "  0.2991123462214718,\n",
              "  0.2993520702810004,\n",
              "  0.29969113170916495,\n",
              "  0.300129193831281,\n",
              "  0.3006658239238233,\n",
              "  0.30130049533233616,\n",
              "  0.3020325899967095,\n",
              "  0.302861401440145,\n",
              "  0.3037861380565486,\n",
              "  0.30480592669098017,\n",
              "  0.3059198169269494,\n",
              "  0.3071267847912833,\n",
              "  0.30842573761435615,\n",
              "  0.3098155183051615,\n",
              "  0.31129491053534736,\n",
              "  0.3128626429429449,\n",
              "  0.3145173945534887,\n",
              "  0.3162577995572117], array([ 0.03061043,  0.02157196,  0.0125335 ,  0.00349503, -0.00554344,\n",
              "        -0.01458191, -0.02362038, -0.03265884, -0.04169731, -0.05073578,\n",
              "        -0.05977425, -0.06881272, -0.07785118, -0.08688965, -0.09592812,\n",
              "        -0.10496659, -0.11400505, -0.12304352, -0.13208199, -0.14112046]))"
            ]
          },
          "metadata": {},
          "execution_count": 188
        }
      ]
    },
    {
      "cell_type": "code",
      "source": [
        "def efficient_opt(mean_returns,cov_matrix,return_target,constr_set=(0,1)):\n",
        "  \"\"\" For each return_target, we want to optimise the ptf for min variance \"\"\"\n",
        "  num_assets = len(mean_returns)\n",
        "  args = (mean_returns, cov_matrix)\n",
        "  ##def ptf_return(weights):\n",
        "      ##return ptf_performance(weights,mean_returns,cov_matrix)[0]\n",
        "  constraints = ({'type': 'eq', 'fun': lambda x: ptf_return(x,mean_returns,cov_matrix) - return_target},\n",
        "                 {'type':'eq','fun':lambda x:np.sum(x) - 1})\n",
        "  bound = constr_set\n",
        "  bounds = tuple(bound for asset in range(num_assets))\n",
        "  eff_opt = opt.minimize(ptf_variance, num_assets*[1/num_assets], args = args,\n",
        "                       method = 'SLSQP',bounds = bounds,constraints = constraints)\n",
        "  return eff_opt\n",
        "  \n",
        "\n",
        "\n",
        "efficient_opt(mean_returns,cov_matrix,0.06)\n",
        "  "
      ],
      "metadata": {
        "colab": {
          "base_uri": "https://localhost:8080/"
        },
        "id": "o2-gwNX5_NEh",
        "outputId": "5030cd98-b226-48cb-d947-79f7daa6c18e"
      },
      "execution_count": 166,
      "outputs": [
        {
          "output_type": "execute_result",
          "data": {
            "text/plain": [
              "     fun: 0.31185312571475415\n",
              "     jac: array([0.29420054, 0.45030959, 0.29111474])\n",
              " message: 'Optimization terminated successfully.'\n",
              "    nfev: 20\n",
              "     nit: 4\n",
              "    njev: 4\n",
              "  status: 0\n",
              " success: True\n",
              "       x: array([0.88692145, 0.11307855, 0.        ])"
            ]
          },
          "metadata": {},
          "execution_count": 166
        }
      ]
    },
    {
      "cell_type": "code",
      "source": [
        "def EF_graph(mean_returns, cov_matrix, rfrate=0, constr_set=(0,1)):\n",
        "  \"\"\"Return a graph plottung the min vol, max sr efficient frontier \"\"\"\n",
        "  max_SR_ret,max_SR_sdev,max_SR_allocation, min_vol_ret, min_vol_sdev, min_vol_allocation, efficient_list, target_returns = calculated_results(mean_returns,cov_matrix,rfrate, constr_set)\n",
        "\n",
        "  ## Max SR\n",
        "  max_sp = go.Scatter(\n",
        "      name = 'Maximum Sharpe Ratio',\n",
        "      mode = 'markers',\n",
        "      x = [max_SR_sdev],\n",
        "      y =[max_SR_ret],\n",
        "      marker = dict(color='red',size=14,line=dict(width=3,color='black'))\n",
        "  )\n",
        "\n",
        "  ## Min vol\n",
        "  min_vol = go.Scatter(\n",
        "      name = 'Minimum Volatility',\n",
        "      mode = 'markers',\n",
        "      x = [min_vol_sdev],\n",
        "      y =[min_vol_ret],\n",
        "      marker = dict(color='green',size=14,line=dict(width=3,color='black'))\n",
        "  )\n",
        "\n",
        "  ## Efficient frontier\n",
        "  ef_curve = go.Scatter(\n",
        "      name = 'Efficient Frontier',\n",
        "      mode = 'lines',\n",
        "      x = [round(ef_std*100,2)for ef_std in efficient_list],\n",
        "      y =[round(target*100,2) for target in target_returns],\n",
        "      line = dict(color='black',width=4,dash ='dashdot')\n",
        "  )\n",
        "\n",
        "  data = [max_sp, min_vol, ef_curve]\n",
        "  \n",
        "  layout = go.Layout(\n",
        "      title = 'Portfolio Optimisation with the efficient frontier',\n",
        "      yaxis = dict(title ='Annualized Return (%)'),\n",
        "      xaxis = dict(title = 'Annualized volatility (%)'),\n",
        "      showlegend=True,\n",
        "      legend = dict(\n",
        "            x =0.75, y = 0, traceorder= 'normal',\n",
        "            bgcolor = '#E2E2E2',\n",
        "            bordercolor = 'black',\n",
        "            borderwidth =2),\n",
        "      width = 800,\n",
        "      height = 600)  \n",
        "\n",
        "  fig = go.Figure(data = data, layout = layout)\n",
        "  return fig.show()\n",
        "\n",
        "  \n",
        "  \n",
        "\n",
        "\n",
        "EF_graph(mean_returns, cov_matrix)\n",
        "  \n",
        "\n",
        "\n",
        "\n"
      ],
      "metadata": {
        "colab": {
          "base_uri": "https://localhost:8080/",
          "height": 617
        },
        "id": "vaPOQt3JHTAy",
        "outputId": "7309e85c-4f4d-48e1-da16-d24f68c81d56"
      },
      "execution_count": 197,
      "outputs": [
        {
          "output_type": "display_data",
          "data": {
            "text/html": [
              "<html>\n",
              "<head><meta charset=\"utf-8\" /></head>\n",
              "<body>\n",
              "    <div>            <script src=\"https://cdnjs.cloudflare.com/ajax/libs/mathjax/2.7.5/MathJax.js?config=TeX-AMS-MML_SVG\"></script><script type=\"text/javascript\">if (window.MathJax) {MathJax.Hub.Config({SVG: {font: \"STIX-Web\"}});}</script>                <script type=\"text/javascript\">window.PlotlyConfig = {MathJaxConfig: 'local'};</script>\n",
              "        <script src=\"https://cdn.plot.ly/plotly-2.8.3.min.js\"></script>                <div id=\"60933f1d-09d3-42a7-9821-cc62068c5b13\" class=\"plotly-graph-div\" style=\"height:600px; width:800px;\"></div>            <script type=\"text/javascript\">                                    window.PLOTLYENV=window.PLOTLYENV || {};                                    if (document.getElementById(\"60933f1d-09d3-42a7-9821-cc62068c5b13\")) {                    Plotly.newPlot(                        \"60933f1d-09d3-42a7-9821-cc62068c5b13\",                        [{\"marker\":{\"color\":\"red\",\"line\":{\"color\":\"black\",\"width\":3},\"size\":14},\"mode\":\"markers\",\"name\":\"Maximum Sharpe Ratio\",\"x\":[39.16],\"y\":[-14.11],\"type\":\"scatter\"},{\"marker\":{\"color\":\"green\",\"line\":{\"color\":\"black\",\"width\":3},\"size\":14},\"mode\":\"markers\",\"name\":\"Minimum Volatility\",\"x\":[29.89],\"y\":[3.06],\"type\":\"scatter\"},{\"line\":{\"color\":\"black\",\"dash\":\"dashdot\",\"width\":4},\"mode\":\"lines\",\"name\":\"Efficient Frontier\",\"x\":[29.89,29.9,29.91,29.94,29.97,30.01,30.07,30.13,30.2,30.29,30.38,30.48,30.59,30.71,30.84,30.98,31.13,31.29,31.45,31.63],\"y\":[3.06,2.16,1.25,0.35,-0.55,-1.46,-2.36,-3.27,-4.17,-5.07,-5.98,-6.88,-7.79,-8.69,-9.59,-10.5,-11.4,-12.3,-13.21,-14.11],\"type\":\"scatter\"}],                        {\"height\":600,\"legend\":{\"bgcolor\":\"#E2E2E2\",\"bordercolor\":\"black\",\"borderwidth\":2,\"traceorder\":\"normal\",\"x\":0.75,\"y\":0},\"showlegend\":true,\"title\":{\"text\":\"Portfolio Optimisation with the efficient frontier\"},\"width\":800,\"xaxis\":{\"title\":{\"text\":\"Annualized volatility (%)\"}},\"yaxis\":{\"title\":{\"text\":\"Annualized Return (%)\"}},\"template\":{\"data\":{\"bar\":[{\"error_x\":{\"color\":\"#2a3f5f\"},\"error_y\":{\"color\":\"#2a3f5f\"},\"marker\":{\"line\":{\"color\":\"#E5ECF6\",\"width\":0.5},\"pattern\":{\"fillmode\":\"overlay\",\"size\":10,\"solidity\":0.2}},\"type\":\"bar\"}],\"barpolar\":[{\"marker\":{\"line\":{\"color\":\"#E5ECF6\",\"width\":0.5},\"pattern\":{\"fillmode\":\"overlay\",\"size\":10,\"solidity\":0.2}},\"type\":\"barpolar\"}],\"carpet\":[{\"aaxis\":{\"endlinecolor\":\"#2a3f5f\",\"gridcolor\":\"white\",\"linecolor\":\"white\",\"minorgridcolor\":\"white\",\"startlinecolor\":\"#2a3f5f\"},\"baxis\":{\"endlinecolor\":\"#2a3f5f\",\"gridcolor\":\"white\",\"linecolor\":\"white\",\"minorgridcolor\":\"white\",\"startlinecolor\":\"#2a3f5f\"},\"type\":\"carpet\"}],\"choropleth\":[{\"colorbar\":{\"outlinewidth\":0,\"ticks\":\"\"},\"type\":\"choropleth\"}],\"contour\":[{\"colorbar\":{\"outlinewidth\":0,\"ticks\":\"\"},\"colorscale\":[[0.0,\"#0d0887\"],[0.1111111111111111,\"#46039f\"],[0.2222222222222222,\"#7201a8\"],[0.3333333333333333,\"#9c179e\"],[0.4444444444444444,\"#bd3786\"],[0.5555555555555556,\"#d8576b\"],[0.6666666666666666,\"#ed7953\"],[0.7777777777777778,\"#fb9f3a\"],[0.8888888888888888,\"#fdca26\"],[1.0,\"#f0f921\"]],\"type\":\"contour\"}],\"contourcarpet\":[{\"colorbar\":{\"outlinewidth\":0,\"ticks\":\"\"},\"type\":\"contourcarpet\"}],\"heatmap\":[{\"colorbar\":{\"outlinewidth\":0,\"ticks\":\"\"},\"colorscale\":[[0.0,\"#0d0887\"],[0.1111111111111111,\"#46039f\"],[0.2222222222222222,\"#7201a8\"],[0.3333333333333333,\"#9c179e\"],[0.4444444444444444,\"#bd3786\"],[0.5555555555555556,\"#d8576b\"],[0.6666666666666666,\"#ed7953\"],[0.7777777777777778,\"#fb9f3a\"],[0.8888888888888888,\"#fdca26\"],[1.0,\"#f0f921\"]],\"type\":\"heatmap\"}],\"heatmapgl\":[{\"colorbar\":{\"outlinewidth\":0,\"ticks\":\"\"},\"colorscale\":[[0.0,\"#0d0887\"],[0.1111111111111111,\"#46039f\"],[0.2222222222222222,\"#7201a8\"],[0.3333333333333333,\"#9c179e\"],[0.4444444444444444,\"#bd3786\"],[0.5555555555555556,\"#d8576b\"],[0.6666666666666666,\"#ed7953\"],[0.7777777777777778,\"#fb9f3a\"],[0.8888888888888888,\"#fdca26\"],[1.0,\"#f0f921\"]],\"type\":\"heatmapgl\"}],\"histogram\":[{\"marker\":{\"pattern\":{\"fillmode\":\"overlay\",\"size\":10,\"solidity\":0.2}},\"type\":\"histogram\"}],\"histogram2d\":[{\"colorbar\":{\"outlinewidth\":0,\"ticks\":\"\"},\"colorscale\":[[0.0,\"#0d0887\"],[0.1111111111111111,\"#46039f\"],[0.2222222222222222,\"#7201a8\"],[0.3333333333333333,\"#9c179e\"],[0.4444444444444444,\"#bd3786\"],[0.5555555555555556,\"#d8576b\"],[0.6666666666666666,\"#ed7953\"],[0.7777777777777778,\"#fb9f3a\"],[0.8888888888888888,\"#fdca26\"],[1.0,\"#f0f921\"]],\"type\":\"histogram2d\"}],\"histogram2dcontour\":[{\"colorbar\":{\"outlinewidth\":0,\"ticks\":\"\"},\"colorscale\":[[0.0,\"#0d0887\"],[0.1111111111111111,\"#46039f\"],[0.2222222222222222,\"#7201a8\"],[0.3333333333333333,\"#9c179e\"],[0.4444444444444444,\"#bd3786\"],[0.5555555555555556,\"#d8576b\"],[0.6666666666666666,\"#ed7953\"],[0.7777777777777778,\"#fb9f3a\"],[0.8888888888888888,\"#fdca26\"],[1.0,\"#f0f921\"]],\"type\":\"histogram2dcontour\"}],\"mesh3d\":[{\"colorbar\":{\"outlinewidth\":0,\"ticks\":\"\"},\"type\":\"mesh3d\"}],\"parcoords\":[{\"line\":{\"colorbar\":{\"outlinewidth\":0,\"ticks\":\"\"}},\"type\":\"parcoords\"}],\"pie\":[{\"automargin\":true,\"type\":\"pie\"}],\"scatter\":[{\"marker\":{\"colorbar\":{\"outlinewidth\":0,\"ticks\":\"\"}},\"type\":\"scatter\"}],\"scatter3d\":[{\"line\":{\"colorbar\":{\"outlinewidth\":0,\"ticks\":\"\"}},\"marker\":{\"colorbar\":{\"outlinewidth\":0,\"ticks\":\"\"}},\"type\":\"scatter3d\"}],\"scattercarpet\":[{\"marker\":{\"colorbar\":{\"outlinewidth\":0,\"ticks\":\"\"}},\"type\":\"scattercarpet\"}],\"scattergeo\":[{\"marker\":{\"colorbar\":{\"outlinewidth\":0,\"ticks\":\"\"}},\"type\":\"scattergeo\"}],\"scattergl\":[{\"marker\":{\"colorbar\":{\"outlinewidth\":0,\"ticks\":\"\"}},\"type\":\"scattergl\"}],\"scattermapbox\":[{\"marker\":{\"colorbar\":{\"outlinewidth\":0,\"ticks\":\"\"}},\"type\":\"scattermapbox\"}],\"scatterpolar\":[{\"marker\":{\"colorbar\":{\"outlinewidth\":0,\"ticks\":\"\"}},\"type\":\"scatterpolar\"}],\"scatterpolargl\":[{\"marker\":{\"colorbar\":{\"outlinewidth\":0,\"ticks\":\"\"}},\"type\":\"scatterpolargl\"}],\"scatterternary\":[{\"marker\":{\"colorbar\":{\"outlinewidth\":0,\"ticks\":\"\"}},\"type\":\"scatterternary\"}],\"surface\":[{\"colorbar\":{\"outlinewidth\":0,\"ticks\":\"\"},\"colorscale\":[[0.0,\"#0d0887\"],[0.1111111111111111,\"#46039f\"],[0.2222222222222222,\"#7201a8\"],[0.3333333333333333,\"#9c179e\"],[0.4444444444444444,\"#bd3786\"],[0.5555555555555556,\"#d8576b\"],[0.6666666666666666,\"#ed7953\"],[0.7777777777777778,\"#fb9f3a\"],[0.8888888888888888,\"#fdca26\"],[1.0,\"#f0f921\"]],\"type\":\"surface\"}],\"table\":[{\"cells\":{\"fill\":{\"color\":\"#EBF0F8\"},\"line\":{\"color\":\"white\"}},\"header\":{\"fill\":{\"color\":\"#C8D4E3\"},\"line\":{\"color\":\"white\"}},\"type\":\"table\"}]},\"layout\":{\"annotationdefaults\":{\"arrowcolor\":\"#2a3f5f\",\"arrowhead\":0,\"arrowwidth\":1},\"autotypenumbers\":\"strict\",\"coloraxis\":{\"colorbar\":{\"outlinewidth\":0,\"ticks\":\"\"}},\"colorscale\":{\"diverging\":[[0,\"#8e0152\"],[0.1,\"#c51b7d\"],[0.2,\"#de77ae\"],[0.3,\"#f1b6da\"],[0.4,\"#fde0ef\"],[0.5,\"#f7f7f7\"],[0.6,\"#e6f5d0\"],[0.7,\"#b8e186\"],[0.8,\"#7fbc41\"],[0.9,\"#4d9221\"],[1,\"#276419\"]],\"sequential\":[[0.0,\"#0d0887\"],[0.1111111111111111,\"#46039f\"],[0.2222222222222222,\"#7201a8\"],[0.3333333333333333,\"#9c179e\"],[0.4444444444444444,\"#bd3786\"],[0.5555555555555556,\"#d8576b\"],[0.6666666666666666,\"#ed7953\"],[0.7777777777777778,\"#fb9f3a\"],[0.8888888888888888,\"#fdca26\"],[1.0,\"#f0f921\"]],\"sequentialminus\":[[0.0,\"#0d0887\"],[0.1111111111111111,\"#46039f\"],[0.2222222222222222,\"#7201a8\"],[0.3333333333333333,\"#9c179e\"],[0.4444444444444444,\"#bd3786\"],[0.5555555555555556,\"#d8576b\"],[0.6666666666666666,\"#ed7953\"],[0.7777777777777778,\"#fb9f3a\"],[0.8888888888888888,\"#fdca26\"],[1.0,\"#f0f921\"]]},\"colorway\":[\"#636efa\",\"#EF553B\",\"#00cc96\",\"#ab63fa\",\"#FFA15A\",\"#19d3f3\",\"#FF6692\",\"#B6E880\",\"#FF97FF\",\"#FECB52\"],\"font\":{\"color\":\"#2a3f5f\"},\"geo\":{\"bgcolor\":\"white\",\"lakecolor\":\"white\",\"landcolor\":\"#E5ECF6\",\"showlakes\":true,\"showland\":true,\"subunitcolor\":\"white\"},\"hoverlabel\":{\"align\":\"left\"},\"hovermode\":\"closest\",\"mapbox\":{\"style\":\"light\"},\"paper_bgcolor\":\"white\",\"plot_bgcolor\":\"#E5ECF6\",\"polar\":{\"angularaxis\":{\"gridcolor\":\"white\",\"linecolor\":\"white\",\"ticks\":\"\"},\"bgcolor\":\"#E5ECF6\",\"radialaxis\":{\"gridcolor\":\"white\",\"linecolor\":\"white\",\"ticks\":\"\"}},\"scene\":{\"xaxis\":{\"backgroundcolor\":\"#E5ECF6\",\"gridcolor\":\"white\",\"gridwidth\":2,\"linecolor\":\"white\",\"showbackground\":true,\"ticks\":\"\",\"zerolinecolor\":\"white\"},\"yaxis\":{\"backgroundcolor\":\"#E5ECF6\",\"gridcolor\":\"white\",\"gridwidth\":2,\"linecolor\":\"white\",\"showbackground\":true,\"ticks\":\"\",\"zerolinecolor\":\"white\"},\"zaxis\":{\"backgroundcolor\":\"#E5ECF6\",\"gridcolor\":\"white\",\"gridwidth\":2,\"linecolor\":\"white\",\"showbackground\":true,\"ticks\":\"\",\"zerolinecolor\":\"white\"}},\"shapedefaults\":{\"line\":{\"color\":\"#2a3f5f\"}},\"ternary\":{\"aaxis\":{\"gridcolor\":\"white\",\"linecolor\":\"white\",\"ticks\":\"\"},\"baxis\":{\"gridcolor\":\"white\",\"linecolor\":\"white\",\"ticks\":\"\"},\"bgcolor\":\"#E5ECF6\",\"caxis\":{\"gridcolor\":\"white\",\"linecolor\":\"white\",\"ticks\":\"\"}},\"title\":{\"x\":0.05},\"xaxis\":{\"automargin\":true,\"gridcolor\":\"white\",\"linecolor\":\"white\",\"ticks\":\"\",\"title\":{\"standoff\":15},\"zerolinecolor\":\"white\",\"zerolinewidth\":2},\"yaxis\":{\"automargin\":true,\"gridcolor\":\"white\",\"linecolor\":\"white\",\"ticks\":\"\",\"title\":{\"standoff\":15},\"zerolinecolor\":\"white\",\"zerolinewidth\":2}}}},                        {\"responsive\": true}                    ).then(function(){\n",
              "                            \n",
              "var gd = document.getElementById('60933f1d-09d3-42a7-9821-cc62068c5b13');\n",
              "var x = new MutationObserver(function (mutations, observer) {{\n",
              "        var display = window.getComputedStyle(gd).display;\n",
              "        if (!display || display === 'none') {{\n",
              "            console.log([gd, 'removed!']);\n",
              "            Plotly.purge(gd);\n",
              "            observer.disconnect();\n",
              "        }}\n",
              "}});\n",
              "\n",
              "// Listen for the removal of the full notebook cells\n",
              "var notebookContainer = gd.closest('#notebook-container');\n",
              "if (notebookContainer) {{\n",
              "    x.observe(notebookContainer, {childList: true});\n",
              "}}\n",
              "\n",
              "// Listen for the clearing of the current output cell\n",
              "var outputEl = gd.closest('.output');\n",
              "if (outputEl) {{\n",
              "    x.observe(outputEl, {childList: true});\n",
              "}}\n",
              "\n",
              "                        })                };                            </script>        </div>\n",
              "</body>\n",
              "</html>"
            ]
          },
          "metadata": {}
        }
      ]
    }
  ]
}