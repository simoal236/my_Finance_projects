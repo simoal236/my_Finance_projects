{
  "nbformat": 4,
  "nbformat_minor": 0,
  "metadata": {
    "colab": {
      "name": "ToyingWithTimeSeries.ipynb",
      "provenance": [],
      "collapsed_sections": []
    },
    "kernelspec": {
      "name": "python3",
      "display_name": "Python 3"
    },
    "language_info": {
      "name": "python"
    }
  },
  "cells": [
    {
      "cell_type": "markdown",
      "source": [
        "$$y_t = \\mu + \\beta y_{t-1} + ϵ_{t}$$\n",
        "$$y_0 = fixed$$\n",
        "$$ϵ \\sim N(0, \\sigma_y)$$\n",
        "\n",
        "\n",
        "$$q_t = \\mu + \\betaϵ_{t-1} + ϵ_{t}$$ \n",
        "$$q_0 = fixed$$\n",
        "$$ϵ \\sim N(0, \\sigma_q)$$"
      ],
      "metadata": {
        "id": "hSEm7MQDO426"
      }
    },
    {
      "cell_type": "code",
      "source": [
        "import numpy as np\n",
        "import matplotlib.pyplot as plt\n",
        "import pandas as pd"
      ],
      "metadata": {
        "id": "BtMXpDwnO5nN"
      },
      "execution_count": null,
      "outputs": []
    },
    {
      "cell_type": "code",
      "source": [
        "def ARpath(s0, time_in_years, mu, beta, sigma=0.25, n_observations=252):\n",
        "    ts = np.linspace(0, time_in_years, n_observations)\n",
        "    s = np.zeros_like(ts)\n",
        "    s[0] = s0\n",
        "    for ix, t in enumerate(ts[1:], start=1):\n",
        "        s[ix] = mu + beta * s[ix-1] + sigma * np.random.randn()\n",
        "    return s\n",
        "\n",
        "def MApath(s0, time_in_years, mu, beta, sigma=0.25, n_observations=252):\n",
        "    ts = np.linspace(0, time_in_years, n_observations)\n",
        "    s = np.zeros_like(ts)\n",
        "    s[0] = s0\n",
        "    errors = np.zeros_like(ts)\n",
        "    errors[0] = np.random.randn()\n",
        "    for ix, t in enumerate(ts[1:], start=1):\n",
        "        errors[ix] = np.random.randn() * sigma\n",
        "        s[ix] = mu + beta * errors[ix-1] + sigma * errors[ix]\n",
        "    return s    \n",
        "\n",
        "def ARMApath(s0, time_in_years, mu1, beta, theta, sigma=0.25, n_observations=252):\n",
        "    ts = np.linspace(0, time_in_years, n_observations)\n",
        "    s = np.zeros_like(ts)\n",
        "    s[0] = s0\n",
        "    errors = np.zeros_like(ts)\n",
        "    errors[0] = np.random.randn() * sigma\n",
        "    for ix, t in enumerate(ts[1:], start=1):\n",
        "        errors[ix] = np.random.randn()\n",
        "        s[ix] = mu1 + beta*s[ix-1] + theta*errors[ix-1] + sigma*errors[ix]\n",
        "    return s    "
      ],
      "metadata": {
        "id": "ZG79i0UtO9Jv"
      },
      "execution_count": null,
      "outputs": []
    },
    {
      "cell_type": "code",
      "source": [
        "# np.random.seed(42)\n",
        "# stock1 = ARpath(100.0, 1.0, 0.0, 0.98)\n",
        "# np.random.seed(42)\n",
        "# stock2 = ARpath(100.0, 1.0, 0.0, 0.98, sigma=0.025)\n",
        "# stock3 = ARpath(100.0, 1.0, 0.0, 0.98, sigma=0.0000000000001)\n",
        "# np.random.seed(42)\n",
        "# stock4 = ARpath(100.0, 1.0, 0.0, 1.02, sigma=0.0000000000001)\n",
        "# np.random.seed(42)\n",
        "# stock5 = ARpath(100.0, 1.0, 0.0, 0.98, sigma=2.5)\n",
        "# np.random.seed(42)\n",
        "# stock6 = ARpath(100.0, 1.0, 0.0, 0.98, sigma=25.0)\n",
        "np.random.seed(42)\n",
        "stock5 = ARpath(100.0, 1.0, 0.0, 0.98, sigma=2.5)\n",
        "# np.random.seed(42)\n",
        "# stock6 = ARpath(100.0, 1.0, 1.0, 0.98, sigma=2.5)\n",
        "# np.random.seed(42)\n",
        "# stock7 = ARpath(100.0, 1.0, 5.0, 0.98, sigma=2.5)\n",
        "np.random.seed(42)\n",
        "stock8 = ARpath(100.0, 1.0, 0.0, -0.98, sigma=2.5)"
      ],
      "metadata": {
        "id": "xsQ5Fm-cPCFk"
      },
      "execution_count": null,
      "outputs": []
    },
    {
      "cell_type": "code",
      "source": [
        "# plt.plot(stock1)\n",
        "# plt.plot(stock2)\n",
        "# plt.plot(stock4)\n",
        "plt.plot(stock5)\n",
        "# plt.plot(stock6)\n",
        "plt.plot(stock8)"
      ],
      "metadata": {
        "id": "280oogFaPEOC"
      },
      "execution_count": null,
      "outputs": []
    },
    {
      "cell_type": "code",
      "source": [
        "np.random.randn(42)\n",
        "ma1 = MApath(0, 1.0, 0.0, 0.95, sigma=0.025)\n",
        "np.random.randn(42)\n",
        "ma2 = MApath(0, 1.0, 0.0, 0.95, sigma=0.25)\n",
        "np.random.randn(42)\n",
        "ma3 = MApath(0, 1.0, 0.0, 0.95, sigma=2.5)\n",
        "np.random.randn(42)\n",
        "ma4 = MApath(0, 1.0, 0.0, 1.05, sigma=2.5)"
      ],
      "metadata": {
        "id": "x1ScYUqjPFsm"
      },
      "execution_count": null,
      "outputs": []
    },
    {
      "cell_type": "code",
      "source": [
        "# plt.plot(ma1)\n",
        "# plt.plot(ma2)\n",
        "plt.plot(ma3)\n",
        "plt.plot(ma4)"
      ],
      "metadata": {
        "id": "NLKWCVnsPON5"
      },
      "execution_count": null,
      "outputs": []
    },
    {
      "cell_type": "code",
      "source": [
        "np.random.seed(42)\n",
        "arma1 = ARMApath(100.0, 1.0, 0.0, 0.99, 0.90, sigma=0.25)\n",
        "np.random.seed(42)\n",
        "arma2 = ARMApath(100.0, 1.0, 0.0, 0.99, 0.90, sigma=2.5)\n",
        "np.random.seed(42)\n",
        "arma3 = ARMApath(100.0, 1.0, 0.0, 0.99, 0.90, sigma=25.0)"
      ],
      "metadata": {
        "id": "LS4e9BOHPMde"
      },
      "execution_count": null,
      "outputs": []
    },
    {
      "cell_type": "code",
      "source": [
        "series1 = pd.Series(arma1)\n",
        "series2 = pd.Series(arma2)\n",
        "series3 = pd.Series(arma3)"
      ],
      "metadata": {
        "id": "BGEU_TPFPRSf"
      },
      "execution_count": null,
      "outputs": []
    },
    {
      "cell_type": "code",
      "source": [
        "dataframe1 = pd.DataFrame(\n",
        "    {\n",
        "        'arma1' : series1,\n",
        "        'arma2' : series2,\n",
        "        'arma3' : series3\n",
        "    }\n",
        ")"
      ],
      "metadata": {
        "id": "lS5jJt0UPSw-"
      },
      "execution_count": null,
      "outputs": []
    },
    {
      "cell_type": "code",
      "source": [
        "dataframe1.plot()"
      ],
      "metadata": {
        "id": "xnMguenQPVGn"
      },
      "execution_count": null,
      "outputs": []
    },
    {
      "cell_type": "code",
      "source": [
        "dataframe1.describe()"
      ],
      "metadata": {
        "id": "vFEDNqt3PWnA"
      },
      "execution_count": null,
      "outputs": []
    }
  ]
}